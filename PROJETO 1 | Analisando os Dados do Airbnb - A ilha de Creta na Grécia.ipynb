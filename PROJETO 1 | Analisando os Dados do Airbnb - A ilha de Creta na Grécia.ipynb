{
  "nbformat": 4,
  "nbformat_minor": 0,
  "metadata": {
    "colab": {
      "name": "PROJETO 1 | Analisando os Dados do Airbnb - A ilha de Creta na Grécia.ipynb",
      "provenance": [],
      "collapsed_sections": [],
      "include_colab_link": true
    },
    "kernelspec": {
      "name": "python3",
      "display_name": "Python 3"
    }
  },
  "cells": [
    {
      "cell_type": "markdown",
      "metadata": {
        "id": "view-in-github",
        "colab_type": "text"
      },
      "source": [
        "<a href=\"https://colab.research.google.com/github/andreamat/Cursos_Data_Science/blob/master/PROJETO%201%20%7C%20Analisando%20os%20Dados%20do%20Airbnb%20-%20A%20ilha%20de%20Creta%20na%20Gr%C3%A9cia.ipynb\" target=\"_parent\"><img src=\"https://colab.research.google.com/assets/colab-badge.svg\" alt=\"Open In Colab\"/></a>"
      ]
    },
    {
      "cell_type": "markdown",
      "metadata": {
        "id": "kLI0gJtzDGuQ",
        "colab_type": "text"
      },
      "source": [
        "#**DSNP - DATA SCIENCE NA PRÁTICA com Carlos Melo**\n",
        "\n",
        "*by [Andréa Rocha](http://lattes.cnpq.br/8217984846199750\n",
        ")*\n",
        "\n",
        "---\n",
        "\n",
        "\n",
        "\n",
        "\n",
        "\n"
      ]
    },
    {
      "cell_type": "markdown",
      "metadata": {
        "id": "TLD2d_r2COun",
        "colab_type": "text"
      },
      "source": [
        "#   *Projeto 1 | Análise dos Dados do Airbnb - A ilha de Creta na Grécia*\n",
        "\n",
        "$\\hspace{0.30cm}$\n",
        "\n",
        "A Grécia é conhecida por suas ilhas paradisíacas. Creta, a maior das ilhas gregas, é considerada como a perfeita combinação entre a vida moderna, a natureza de tirar o fôlego e o berço da civilização mais antiga da Europa. Um verdadeiro museu a céu aberto!\n",
        "\n",
        "$\\hspace{0.50cm}$\n",
        "<center><img alt=\"Creta\" width=\"80%\" src=\"https://cdn.pixabay.com/photo/2017/08/17/13/14/crete-2651290_960_720.jpg\"></center>\n",
        "$\\hspace{0.50cm}$\n",
        "\n",
        "A ilha de Creta é uma super dica para quem gosta de conhecer belas paisagens, gastronomia requintada, história e cultura. Afinal, para muitas pessoas, viajar é uma das coisas mais prazerosas da vida. E, em tempos de [Airbnb](https://www.airbnb.com.br/) viajar e ficar em hospedagens diferentes do padrão, curiosas ou até inusitadas, ficou mais fácil. \n",
        "\n",
        "A plataforma Airbnb (Air, Bed and Breakfast) inovou ao conectar pessoas que querem viajar com anfitriões que querem alugar os seus imóveis e tornou-se a maior rede hoteleira sem possuir nenhum hotel. \n",
        "\n",
        "Uma das iniciativas do Airbnb é disponibilizar um banco de dados com informações sobre as hospedagens em algumas das principais cidades do mundo. Para desenvolver esse projeto e analisar os dados referentes à ilha de Creta, usamos as informações contidas nesse banco de dados. \n",
        "\n",
        "**Neste *notebook*, iremos analisar os dados referentes à ilha de Creta situada na Grécia, e ver quais insights podem ser extraídos a partir de dados brutos.**"
      ]
    },
    {
      "cell_type": "markdown",
      "metadata": {
        "id": "0zxQHhIUDF_2",
        "colab_type": "text"
      },
      "source": [
        "## 1. Obtenção dos Dados\n"
      ]
    },
    {
      "cell_type": "markdown",
      "metadata": {
        "id": "naiCisQLYYm5",
        "colab_type": "text"
      },
      "source": [
        "Nesse projeto, analisamos os dados do Airbnb referentes à ilha de Creta na Grécia, usando os dados que foram baixados para o meu [GitHub](https://github.com/andreamat/Cursos_Data_Science) através do portal [Inside Airbnb](http://insideairbnb.com/get-the-data.html). \n",
        "\n"
      ]
    },
    {
      "cell_type": "markdown",
      "metadata": {
        "id": "cKEBfoNNfPSU",
        "colab_type": "text"
      },
      "source": [
        "### 1.1. Importação das bibliotecas necessárias:"
      ]
    },
    {
      "cell_type": "markdown",
      "metadata": {
        "id": "AkEihWdad9tF",
        "colab_type": "text"
      },
      "source": [
        "Para realizar as análises usamos as seguintes blibiotecas Python:\n",
        "\n",
        "* Pandas - fornece estruturas e ferramentas para manipulação e análise de dados.\n",
        "* Matplotlib - cria visualizações estáticas, animadas e interativas em Python.\n",
        "* Seaborn - fornece uma API sobre o Matplotlib que oferece opções sensatas para o estilo de plotagem e os padrões de cores, define funções simples de alto nível para tipos de plotagem estatísticos comuns e integra-se à funcionalidade fornecida pelo Pandas."
      ]
    },
    {
      "cell_type": "code",
      "metadata": {
        "id": "Vhp2wMPgJ6zX",
        "colab_type": "code",
        "colab": {}
      },
      "source": [
        "import pandas as pd\n",
        "import matplotlib.pyplot as plt\n",
        "import seaborn as sns\n",
        "\n",
        "%matplotlib inline"
      ],
      "execution_count": null,
      "outputs": []
    },
    {
      "cell_type": "markdown",
      "metadata": {
        "id": "E-uhzBDegIVo",
        "colab_type": "text"
      },
      "source": [
        "### 1.2. Importação dos dados e criação de um DataFrame"
      ]
    },
    {
      "cell_type": "markdown",
      "metadata": {
        "id": "06aOVXv3js1z",
        "colab_type": "text"
      },
      "source": [
        "O dataset utilizado está no meu diretório no [GitHub](https://github.com/andreamat/Cursos_Data_Science), dessa forma evitamos que o arquivo seja alterado ou esteja indisponível. \n",
        "\n",
        "Criando o dataframe `df_creta` no pandas a partir do arquivo `listings_creta.csv`:"
      ]
    },
    {
      "cell_type": "code",
      "metadata": {
        "id": "tUmoAT8DLQ5T",
        "colab_type": "code",
        "colab": {}
      },
      "source": [
        "df_creta = pd.read_csv('https://raw.githubusercontent.com/andreamat/Cursos_Data_Science/master/data/listings_creta.csv')"
      ],
      "execution_count": null,
      "outputs": []
    },
    {
      "cell_type": "markdown",
      "metadata": {
        "id": "qb5By2nIMS6m",
        "colab_type": "text"
      },
      "source": [
        "## 2. Análise dos Dados\n"
      ]
    },
    {
      "cell_type": "markdown",
      "metadata": {
        "id": "0uItJJbqkWQa",
        "colab_type": "text"
      },
      "source": [
        "O objetivo dessa etapa é compreender como os nossos dados estão estruturados no nosso DataFrame. "
      ]
    },
    {
      "cell_type": "markdown",
      "metadata": {
        "id": "TNXCv-KVr4vD",
        "colab_type": "text"
      },
      "source": [
        "### 2.1. Primeiras entradas do DataFrame"
      ]
    },
    {
      "cell_type": "markdown",
      "metadata": {
        "id": "qc-OT6tpl5Gv",
        "colab_type": "text"
      },
      "source": [
        "Antes de iniciar qualquer análise, verificamos as 5 primeiras entradas do nosso DataFrame:"
      ]
    },
    {
      "cell_type": "code",
      "metadata": {
        "id": "2iS_dae7YQtO",
        "colab_type": "code",
        "colab": {
          "base_uri": "https://localhost:8080/",
          "height": 406
        },
        "outputId": "cd84b46f-389a-4e7d-e2e6-c989e6a19a02"
      },
      "source": [
        "df_creta.head()"
      ],
      "execution_count": null,
      "outputs": [
        {
          "output_type": "execute_result",
          "data": {
            "text/html": [
              "<div>\n",
              "<style scoped>\n",
              "    .dataframe tbody tr th:only-of-type {\n",
              "        vertical-align: middle;\n",
              "    }\n",
              "\n",
              "    .dataframe tbody tr th {\n",
              "        vertical-align: top;\n",
              "    }\n",
              "\n",
              "    .dataframe thead th {\n",
              "        text-align: right;\n",
              "    }\n",
              "</style>\n",
              "<table border=\"1\" class=\"dataframe\">\n",
              "  <thead>\n",
              "    <tr style=\"text-align: right;\">\n",
              "      <th></th>\n",
              "      <th>id</th>\n",
              "      <th>name</th>\n",
              "      <th>host_id</th>\n",
              "      <th>host_name</th>\n",
              "      <th>neighbourhood_group</th>\n",
              "      <th>neighbourhood</th>\n",
              "      <th>latitude</th>\n",
              "      <th>longitude</th>\n",
              "      <th>room_type</th>\n",
              "      <th>price</th>\n",
              "      <th>minimum_nights</th>\n",
              "      <th>number_of_reviews</th>\n",
              "      <th>last_review</th>\n",
              "      <th>reviews_per_month</th>\n",
              "      <th>calculated_host_listings_count</th>\n",
              "      <th>availability_365</th>\n",
              "    </tr>\n",
              "  </thead>\n",
              "  <tbody>\n",
              "    <tr>\n",
              "      <th>0</th>\n",
              "      <td>27966</td>\n",
              "      <td>Heraklion-Pinelopi Apartment</td>\n",
              "      <td>120502</td>\n",
              "      <td>Antonia &amp; Manolis</td>\n",
              "      <td>NaN</td>\n",
              "      <td>Μαλεβιζίου</td>\n",
              "      <td>35.33198</td>\n",
              "      <td>25.08182</td>\n",
              "      <td>Entire home/apt</td>\n",
              "      <td>45</td>\n",
              "      <td>2</td>\n",
              "      <td>500</td>\n",
              "      <td>2020-03-06</td>\n",
              "      <td>5.25</td>\n",
              "      <td>2</td>\n",
              "      <td>0</td>\n",
              "    </tr>\n",
              "    <tr>\n",
              "      <th>1</th>\n",
              "      <td>28970</td>\n",
              "      <td>artists' house in the old town</td>\n",
              "      <td>124670</td>\n",
              "      <td>Eirini</td>\n",
              "      <td>NaN</td>\n",
              "      <td>Ηρακλείου</td>\n",
              "      <td>35.34005</td>\n",
              "      <td>25.12809</td>\n",
              "      <td>Entire home/apt</td>\n",
              "      <td>70</td>\n",
              "      <td>1</td>\n",
              "      <td>52</td>\n",
              "      <td>2017-10-16</td>\n",
              "      <td>0.44</td>\n",
              "      <td>2</td>\n",
              "      <td>85</td>\n",
              "    </tr>\n",
              "    <tr>\n",
              "      <th>2</th>\n",
              "      <td>29856</td>\n",
              "      <td>Matala Dimitris Villa and Hotel</td>\n",
              "      <td>128653</td>\n",
              "      <td>Dimitris</td>\n",
              "      <td>NaN</td>\n",
              "      <td>Φαιστού</td>\n",
              "      <td>34.99311</td>\n",
              "      <td>24.74964</td>\n",
              "      <td>Private room</td>\n",
              "      <td>50</td>\n",
              "      <td>1</td>\n",
              "      <td>40</td>\n",
              "      <td>2019-10-13</td>\n",
              "      <td>0.34</td>\n",
              "      <td>2</td>\n",
              "      <td>204</td>\n",
              "    </tr>\n",
              "    <tr>\n",
              "      <th>3</th>\n",
              "      <td>30162</td>\n",
              "      <td>2 storey Loft in Heraklion, Crete</td>\n",
              "      <td>59966</td>\n",
              "      <td>Nicole</td>\n",
              "      <td>NaN</td>\n",
              "      <td>Ηρακλείου</td>\n",
              "      <td>35.34090</td>\n",
              "      <td>25.13154</td>\n",
              "      <td>Entire home/apt</td>\n",
              "      <td>190</td>\n",
              "      <td>2</td>\n",
              "      <td>18</td>\n",
              "      <td>2018-08-27</td>\n",
              "      <td>0.22</td>\n",
              "      <td>3</td>\n",
              "      <td>363</td>\n",
              "    </tr>\n",
              "    <tr>\n",
              "      <th>4</th>\n",
              "      <td>31023</td>\n",
              "      <td>Guesthouse Chryssoula Room No1</td>\n",
              "      <td>133208</td>\n",
              "      <td>Chryssoula</td>\n",
              "      <td>NaN</td>\n",
              "      <td>Χανίων</td>\n",
              "      <td>35.51591</td>\n",
              "      <td>24.01751</td>\n",
              "      <td>Entire home/apt</td>\n",
              "      <td>40</td>\n",
              "      <td>2</td>\n",
              "      <td>262</td>\n",
              "      <td>2020-03-19</td>\n",
              "      <td>2.74</td>\n",
              "      <td>4</td>\n",
              "      <td>268</td>\n",
              "    </tr>\n",
              "  </tbody>\n",
              "</table>\n",
              "</div>"
            ],
            "text/plain": [
              "      id  ... availability_365\n",
              "0  27966  ...                0\n",
              "1  28970  ...               85\n",
              "2  29856  ...              204\n",
              "3  30162  ...              363\n",
              "4  31023  ...              268\n",
              "\n",
              "[5 rows x 16 columns]"
            ]
          },
          "metadata": {
            "tags": []
          },
          "execution_count": 54
        }
      ]
    },
    {
      "cell_type": "markdown",
      "metadata": {
        "id": "cmjVC0tDwbTF",
        "colab_type": "text"
      },
      "source": [
        "### 2.2. Variáveis do DataFrame"
      ]
    },
    {
      "cell_type": "markdown",
      "metadata": {
        "id": "Io53Qe1Hmbzv",
        "colab_type": "text"
      },
      "source": [
        "Em seguida, verificamos as colunas do DataFrame:"
      ]
    },
    {
      "cell_type": "code",
      "metadata": {
        "id": "2OyEqi-Vm5Ko",
        "colab_type": "code",
        "colab": {
          "base_uri": "https://localhost:8080/",
          "height": 115
        },
        "outputId": "38b6b00b-fc3e-44ea-afec-ad50fa9fbfc9"
      },
      "source": [
        "df_creta.columns"
      ],
      "execution_count": null,
      "outputs": [
        {
          "output_type": "execute_result",
          "data": {
            "text/plain": [
              "Index(['id', 'name', 'host_id', 'host_name', 'neighbourhood_group',\n",
              "       'neighbourhood', 'latitude', 'longitude', 'room_type', 'price',\n",
              "       'minimum_nights', 'number_of_reviews', 'last_review',\n",
              "       'reviews_per_month', 'calculated_host_listings_count',\n",
              "       'availability_365'],\n",
              "      dtype='object')"
            ]
          },
          "metadata": {
            "tags": []
          },
          "execution_count": 55
        }
      ]
    },
    {
      "cell_type": "markdown",
      "metadata": {
        "id": "-cED_3uWwque",
        "colab_type": "text"
      },
      "source": [
        "### 2.3. Dicionário das variáveis"
      ]
    },
    {
      "cell_type": "markdown",
      "metadata": {
        "id": "eY00K54znBb5",
        "colab_type": "text"
      },
      "source": [
        "Agora, vamos descobrir o que significa cada sigla dessas colunas montando um dicionário das variáveis que ajudará na compreensão dos dados."
      ]
    },
    {
      "cell_type": "markdown",
      "metadata": {
        "id": "RYgvuebKNg8-",
        "colab_type": "text"
      },
      "source": [
        "**Dicionário das variáveis**\n",
        "\n",
        "* `id` - número de id gerado para identificar o imóvel\n",
        "* `name` - nome da propriedade anunciada\n",
        "* `host_id` - número de id do proprietário (anfitrião) da propriedade\n",
        "* `host_name` - Nome do anfitrião\n",
        "* `neighbourhood_group` - esta coluna não contém nenhum valor válido\n",
        "* `neighbourhood` - nome do bairro\n",
        "* `latitude` - coordenada da latitude da propriedade\n",
        "* `longitude` - coordenada da longitude da propriedade\n",
        "* `room_type` - informa o tipo de quarto que é oferecido\n",
        "* `price` - preço para alugar o imóvel\n",
        "* `minimum_nights` - quantidade mínima de noites para reservar\n",
        "* `number_of_reviews` - número de reviews que a propriedade possui\n",
        "* `last_review` - data do último review\n",
        "* `reviews_per_month` - quantidade de reviews por mês\n",
        "* `calculated_host_listings_count` - quantidade de imóveis do mesmo anfitrião\n",
        "* `availability_365` - número de dias de disponibilidade dentro de 365 dias\n",
        "\n"
      ]
    },
    {
      "cell_type": "markdown",
      "metadata": {
        "id": "i69JOFnrqSHm",
        "colab_type": "text"
      },
      "source": [
        "Em seguida, faremos uma análise exploratória superficial sobre o dataset que baixamos que é uma versão \"resumida\" do Airbnb."
      ]
    },
    {
      "cell_type": "markdown",
      "metadata": {
        "id": "6-B_qtEaYEd-",
        "colab_type": "text"
      },
      "source": [
        "### 2.4. Quantos atributos (variáveis) e quantas entradas o nosso conjunto de dados possui? Quais os tipos das variáveis?"
      ]
    },
    {
      "cell_type": "markdown",
      "metadata": {
        "id": "vtEW5_PArbfB",
        "colab_type": "text"
      },
      "source": [
        "Nessa etapa, vamos verificar o tamanho do nosso DataFrame e os tipos de cada coluna. \n",
        "\n",
        " "
      ]
    },
    {
      "cell_type": "markdown",
      "metadata": {
        "id": "NKOXwvejzkMA",
        "colab_type": "text"
      },
      "source": [
        "#### 2.4.1. Tamanho do DataFrame "
      ]
    },
    {
      "cell_type": "markdown",
      "metadata": {
        "id": "6BRIWGKLsHub",
        "colab_type": "text"
      },
      "source": [
        "Verificando o tamanho do DataFrame `df_creta`:"
      ]
    },
    {
      "cell_type": "code",
      "metadata": {
        "id": "TFRK0tniLV-G",
        "colab_type": "code",
        "colab": {
          "base_uri": "https://localhost:8080/",
          "height": 50
        },
        "outputId": "dc818c73-6bf2-45ae-c712-55e7c8512df7"
      },
      "source": [
        "print('Quantidade de linhas (entradas):', df_creta.shape[0])\n",
        "print('Quantidade de colunas (variáveis):', df_creta.shape[1])"
      ],
      "execution_count": null,
      "outputs": [
        {
          "output_type": "stream",
          "text": [
            "Quantidade de linhas (entradas): 18391\n",
            "Quantidade de colunas (variáveis): 16\n"
          ],
          "name": "stdout"
        }
      ]
    },
    {
      "cell_type": "markdown",
      "metadata": {
        "id": "FoSZ7SnUzwB1",
        "colab_type": "text"
      },
      "source": [
        "#### 2.4.2. Tipos de variáveis"
      ]
    },
    {
      "cell_type": "markdown",
      "metadata": {
        "id": "xCAEPgmqtESr",
        "colab_type": "text"
      },
      "source": [
        "Verificando os tipos de cada variável:"
      ]
    },
    {
      "cell_type": "code",
      "metadata": {
        "id": "3wGXSi76wqjF",
        "colab_type": "code",
        "colab": {
          "base_uri": "https://localhost:8080/",
          "height": 293
        },
        "outputId": "ad5fe854-3385-4315-cfb4-f2ce8e950cbd"
      },
      "source": [
        "df_creta.dtypes"
      ],
      "execution_count": null,
      "outputs": [
        {
          "output_type": "execute_result",
          "data": {
            "text/plain": [
              "id                                  int64\n",
              "name                               object\n",
              "host_id                             int64\n",
              "host_name                          object\n",
              "neighbourhood_group               float64\n",
              "neighbourhood                      object\n",
              "latitude                          float64\n",
              "longitude                         float64\n",
              "room_type                          object\n",
              "price                               int64\n",
              "minimum_nights                      int64\n",
              "number_of_reviews                   int64\n",
              "last_review                        object\n",
              "reviews_per_month                 float64\n",
              "calculated_host_listings_count      int64\n",
              "availability_365                    int64\n",
              "dtype: object"
            ]
          },
          "metadata": {
            "tags": []
          },
          "execution_count": 57
        }
      ]
    },
    {
      "cell_type": "markdown",
      "metadata": {
        "id": "yz1urSUGW9iE",
        "colab_type": "text"
      },
      "source": [
        "### 2.5. Qual a porcentagem de valores ausentes no *dataset*?"
      ]
    },
    {
      "cell_type": "markdown",
      "metadata": {
        "id": "nIvgw8asxWDn",
        "colab_type": "text"
      },
      "source": [
        "Os valores ausentes influenciam na qualidade de um DataFrame. É fundamental, no início da análise, verificar a porcentagem dos valores ausentes em relação ao total de entradas para ter uma noção do quanto esses valores podem impactar nos resultados das nossas análises."
      ]
    },
    {
      "cell_type": "markdown",
      "metadata": {
        "id": "ZmT12gtfyiYt",
        "colab_type": "text"
      },
      "source": [
        "Verificando os valores ausentes em ordem descrescente:"
      ]
    },
    {
      "cell_type": "code",
      "metadata": {
        "id": "plk2FjbCXOqP",
        "colab_type": "code",
        "colab": {
          "base_uri": "https://localhost:8080/",
          "height": 293
        },
        "outputId": "3ce8e607-0c49-4055-ac0d-39478e62bd78"
      },
      "source": [
        "(df_creta.isnull().sum() / df_creta.shape[0]).sort_values(ascending=False)"
      ],
      "execution_count": null,
      "outputs": [
        {
          "output_type": "execute_result",
          "data": {
            "text/plain": [
              "neighbourhood_group               1.000000\n",
              "reviews_per_month                 0.322658\n",
              "last_review                       0.322658\n",
              "name                              0.000272\n",
              "host_name                         0.000054\n",
              "availability_365                  0.000000\n",
              "calculated_host_listings_count    0.000000\n",
              "number_of_reviews                 0.000000\n",
              "minimum_nights                    0.000000\n",
              "price                             0.000000\n",
              "room_type                         0.000000\n",
              "longitude                         0.000000\n",
              "latitude                          0.000000\n",
              "neighbourhood                     0.000000\n",
              "host_id                           0.000000\n",
              "id                                0.000000\n",
              "dtype: float64"
            ]
          },
          "metadata": {
            "tags": []
          },
          "execution_count": 58
        }
      ]
    },
    {
      "cell_type": "markdown",
      "metadata": {
        "id": "WHP9Kz41ze4O",
        "colab_type": "text"
      },
      "source": [
        "O resultado nos mostra que:\n",
        "\n",
        "* A coluna `neighbourhood_group` possui 100% dos seus valores ausentes.\n",
        "* As colunas `reviews_per_month` e `last_review` possuem 32% dos valores ausentes.\n",
        "* As colunas `name` e `host_name` possuem 0,027% e 0,0054% dos seus valores ausentes, respectivamente."
      ]
    },
    {
      "cell_type": "markdown",
      "metadata": {
        "id": "iHXvvHIxaoNc",
        "colab_type": "text"
      },
      "source": [
        "### 2.6. Qual o tipo de distribuição das variáveis?"
      ]
    },
    {
      "cell_type": "markdown",
      "metadata": {
        "id": "qvSFy8ye0tTo",
        "colab_type": "text"
      },
      "source": [
        "Verificamos a distribuição de variáveis, usando a plotagem de histogramas. Um histograma é um gráfico de frequência que tem por objetivo ilustrar como uma determinada amostra ou população de dados está distribuída."
      ]
    },
    {
      "cell_type": "markdown",
      "metadata": {
        "id": "DgkVrlYX1bMI",
        "colab_type": "text"
      },
      "source": [
        "Plotando o histograma das variáveis numéricas:"
      ]
    },
    {
      "cell_type": "code",
      "metadata": {
        "id": "9kJI3K6i1i3v",
        "colab_type": "code",
        "colab": {
          "base_uri": "https://localhost:8080/",
          "height": 607
        },
        "outputId": "ab481086-0c98-444a-d429-462984b6478c"
      },
      "source": [
        "df_creta.hist(bins=30, figsize=(15,10));"
      ],
      "execution_count": null,
      "outputs": [
        {
          "output_type": "display_data",
          "data": {
            "image/png": "[encoded data removed]",
            "text/plain": [
              "<Figure size 1080x720 with 12 Axes>"
            ]
          },
          "metadata": {
            "tags": [],
            "needs_background": "light"
          }
        }
      ]
    },
    {
      "cell_type": "markdown",
      "metadata": {
        "id": "9ZBJ376C2Yft",
        "colab_type": "text"
      },
      "source": [
        "### 2.7. Há *outliers* presentes?"
      ]
    },
    {
      "cell_type": "markdown",
      "metadata": {
        "id": "-3VLwE1W2FVP",
        "colab_type": "text"
      },
      "source": [
        "A distribuição acima, nos mostra que existe a presença de *outliers*. Olhe por exemplo, as variáveis `price`, `minimum_nights` e `calculated_host_listings_count`.  "
      ]
    },
    {
      "cell_type": "markdown",
      "metadata": {
        "id": "ssCgTkrp4csH",
        "colab_type": "text"
      },
      "source": [
        "Esses valores distorcem a representação gráfica, pois não seguem uma distribuição. Podemos confirmar a presença de *outliers* de duas maneiras:\n",
        "\n",
        "* Visualizar um resumo estatístico usando o método `describe()`.\n",
        "* Plotar `boxplots` para as variáveis."
      ]
    },
    {
      "cell_type": "markdown",
      "metadata": {
        "id": "kKn_GQX40lhL",
        "colab_type": "text"
      },
      "source": [
        "#### 2.7.1. Resumo estatístico"
      ]
    },
    {
      "cell_type": "markdown",
      "metadata": {
        "id": "P1zwOKZM5Bdo",
        "colab_type": "text"
      },
      "source": [
        "Visualizando um resumo estatísticos das variáveis numéricas:"
      ]
    },
    {
      "cell_type": "code",
      "metadata": {
        "id": "Z3DuXuOA5GkO",
        "colab_type": "code",
        "colab": {
          "base_uri": "https://localhost:8080/",
          "height": 277
        },
        "outputId": "3340cddd-fe31-4367-ae8e-61491f75fd08"
      },
      "source": [
        "df_creta[['price', 'minimum_nights', 'number_of_reviews', 'reviews_per_month', 'calculated_host_listings_count', 'availability_365']].describe()"
      ],
      "execution_count": null,
      "outputs": [
        {
          "output_type": "execute_result",
          "data": {
            "text/html": [
              "<div>\n",
              "<style scoped>\n",
              "    .dataframe tbody tr th:only-of-type {\n",
              "        vertical-align: middle;\n",
              "    }\n",
              "\n",
              "    .dataframe tbody tr th {\n",
              "        vertical-align: top;\n",
              "    }\n",
              "\n",
              "    .dataframe thead th {\n",
              "        text-align: right;\n",
              "    }\n",
              "</style>\n",
              "<table border=\"1\" class=\"dataframe\">\n",
              "  <thead>\n",
              "    <tr style=\"text-align: right;\">\n",
              "      <th></th>\n",
              "      <th>price</th>\n",
              "      <th>minimum_nights</th>\n",
              "      <th>number_of_reviews</th>\n",
              "      <th>reviews_per_month</th>\n",
              "      <th>calculated_host_listings_count</th>\n",
              "      <th>availability_365</th>\n",
              "    </tr>\n",
              "  </thead>\n",
              "  <tbody>\n",
              "    <tr>\n",
              "      <th>count</th>\n",
              "      <td>18391.000000</td>\n",
              "      <td>18391.000000</td>\n",
              "      <td>18391.000000</td>\n",
              "      <td>12457.000000</td>\n",
              "      <td>18391.000000</td>\n",
              "      <td>18391.000000</td>\n",
              "    </tr>\n",
              "    <tr>\n",
              "      <th>mean</th>\n",
              "      <td>129.575118</td>\n",
              "      <td>3.316731</td>\n",
              "      <td>10.629493</td>\n",
              "      <td>0.514948</td>\n",
              "      <td>15.836387</td>\n",
              "      <td>217.991572</td>\n",
              "    </tr>\n",
              "    <tr>\n",
              "      <th>std</th>\n",
              "      <td>251.270661</td>\n",
              "      <td>10.006127</td>\n",
              "      <td>21.906536</td>\n",
              "      <td>0.663972</td>\n",
              "      <td>35.750821</td>\n",
              "      <td>128.046642</td>\n",
              "    </tr>\n",
              "    <tr>\n",
              "      <th>min</th>\n",
              "      <td>0.000000</td>\n",
              "      <td>1.000000</td>\n",
              "      <td>0.000000</td>\n",
              "      <td>0.010000</td>\n",
              "      <td>1.000000</td>\n",
              "      <td>0.000000</td>\n",
              "    </tr>\n",
              "    <tr>\n",
              "      <th>25%</th>\n",
              "      <td>50.000000</td>\n",
              "      <td>2.000000</td>\n",
              "      <td>0.000000</td>\n",
              "      <td>0.120000</td>\n",
              "      <td>1.000000</td>\n",
              "      <td>124.000000</td>\n",
              "    </tr>\n",
              "    <tr>\n",
              "      <th>50%</th>\n",
              "      <td>75.000000</td>\n",
              "      <td>3.000000</td>\n",
              "      <td>3.000000</td>\n",
              "      <td>0.300000</td>\n",
              "      <td>3.000000</td>\n",
              "      <td>234.000000</td>\n",
              "    </tr>\n",
              "    <tr>\n",
              "      <th>75%</th>\n",
              "      <td>135.000000</td>\n",
              "      <td>4.000000</td>\n",
              "      <td>12.000000</td>\n",
              "      <td>0.640000</td>\n",
              "      <td>8.000000</td>\n",
              "      <td>343.000000</td>\n",
              "    </tr>\n",
              "    <tr>\n",
              "      <th>max</th>\n",
              "      <td>15870.000000</td>\n",
              "      <td>1000.000000</td>\n",
              "      <td>500.000000</td>\n",
              "      <td>16.760000</td>\n",
              "      <td>180.000000</td>\n",
              "      <td>365.000000</td>\n",
              "    </tr>\n",
              "  </tbody>\n",
              "</table>\n",
              "</div>"
            ],
            "text/plain": [
              "              price  ...  availability_365\n",
              "count  18391.000000  ...      18391.000000\n",
              "mean     129.575118  ...        217.991572\n",
              "std      251.270661  ...        128.046642\n",
              "min        0.000000  ...          0.000000\n",
              "25%       50.000000  ...        124.000000\n",
              "50%       75.000000  ...        234.000000\n",
              "75%      135.000000  ...        343.000000\n",
              "max    15870.000000  ...        365.000000\n",
              "\n",
              "[8 rows x 6 columns]"
            ]
          },
          "metadata": {
            "tags": []
          },
          "execution_count": 60
        }
      ]
    },
    {
      "cell_type": "markdown",
      "metadata": {
        "id": "7tsFVLD2FPjH",
        "colab_type": "text"
      },
      "source": [
        "O resumo estatístico acima, confirma algumas hipóteses como:\n",
        "\n",
        "* A variável `price` possui 75% do valor abaixo de 135, porém o seu valor máximo é de 15 870.\n",
        "* A variável `minimum_nights` possui 75% do valor abaixo de 4, enquanto o seu valor máximo é igual a 1000.\n",
        "* A variável `calculated_host_listings_count` tem 75% do valor abaixo de 8, mas o seu valor máximo é de 180."
      ]
    },
    {
      "cell_type": "markdown",
      "metadata": {
        "id": "Ud_xJD450t1n",
        "colab_type": "text"
      },
      "source": [
        "#### 2.7.2. Gráfico Boxplot"
      ]
    },
    {
      "cell_type": "markdown",
      "metadata": {
        "id": "cZTa12VhLfMO",
        "colab_type": "text"
      },
      "source": [
        "Plotando o boxplot para `price`:"
      ]
    },
    {
      "cell_type": "code",
      "metadata": {
        "id": "arOPZYEdLqfW",
        "colab_type": "code",
        "colab": {
          "base_uri": "https://localhost:8080/",
          "height": 211
        },
        "outputId": "14d6db37-eb61-4671-f211-1a8b68543892"
      },
      "source": [
        "df_creta.price.plot(kind='box', vert=False, figsize=(15,3))\n",
        "plt.show()"
      ],
      "execution_count": null,
      "outputs": [
        {
          "output_type": "display_data",
          "data": {
            "image/png": "[encoded data removed]",
            "text/plain": [
              "<Figure size 1080x216 with 1 Axes>"
            ]
          },
          "metadata": {
            "tags": [],
            "needs_background": "light"
          }
        }
      ]
    },
    {
      "cell_type": "markdown",
      "metadata": {
        "id": "TuENaNe9MgVF",
        "colab_type": "text"
      },
      "source": [
        "Visualizando valores acima de 1500:"
      ]
    },
    {
      "cell_type": "code",
      "metadata": {
        "id": "hi5fnqklMCM0",
        "colab_type": "code",
        "colab": {
          "base_uri": "https://localhost:8080/",
          "height": 82
        },
        "outputId": "05242570-e22c-4d75-f704-6bef4f5f5e9f"
      },
      "source": [
        "print(\"\\nprice: valores acima de 1500\")\n",
        "print(\"{} entradas\".format(len(df_creta[df_creta.price > 1500])))\n",
        "print(\"{:.4f}%\".format((len(df_creta[df_creta.price > 1500]) / df_creta.shape[0])*100))"
      ],
      "execution_count": null,
      "outputs": [
        {
          "output_type": "stream",
          "text": [
            "\n",
            "price: valores acima de 1500\n",
            "65 entradas\n",
            "0.3534%\n"
          ],
          "name": "stdout"
        }
      ]
    },
    {
      "cell_type": "markdown",
      "metadata": {
        "id": "esQ5oVlaG7Ks",
        "colab_type": "text"
      },
      "source": [
        "Plotando o boxplot para `minimum_nights`:"
      ]
    },
    {
      "cell_type": "code",
      "metadata": {
        "id": "i8X91YfaHQs-",
        "colab_type": "code",
        "colab": {
          "base_uri": "https://localhost:8080/",
          "height": 211
        },
        "outputId": "2dbe3372-bdf7-420f-a711-a2a8254d95f9"
      },
      "source": [
        "df_creta.minimum_nights.plot(kind='box', vert=False, figsize=(15,3))\n",
        "plt.show()"
      ],
      "execution_count": null,
      "outputs": [
        {
          "output_type": "display_data",
          "data": {
            "image/png": "[encoded data removed]",
            "text/plain": [
              "<Figure size 1080x216 with 1 Axes>"
            ]
          },
          "metadata": {
            "tags": [],
            "needs_background": "light"
          }
        }
      ]
    },
    {
      "cell_type": "markdown",
      "metadata": {
        "id": "jMDd2hIWH5LH",
        "colab_type": "text"
      },
      "source": [
        "Visualizar a quantidade de valores acima de 30 dias para `minimum_nights`:"
      ]
    },
    {
      "cell_type": "code",
      "metadata": {
        "id": "M0uhrem3II1L",
        "colab_type": "code",
        "colab": {
          "base_uri": "https://localhost:8080/",
          "height": 66
        },
        "outputId": "88133bf4-1c6f-4745-ff14-4f00dac29c58"
      },
      "source": [
        "print(\"minimum_nights: valores acima de 30:\")\n",
        "print(\"{} entradas\".format(len(df_creta[df_creta.minimum_nights > 30])))\n",
        "print(\"{:.4f}%\".format((len(df_creta[df_creta.minimum_nights > 30]) / df_creta.shape[0])*100))"
      ],
      "execution_count": null,
      "outputs": [
        {
          "output_type": "stream",
          "text": [
            "minimum_nights: valores acima de 30:\n",
            "34 entradas\n",
            "0.1849%\n"
          ],
          "name": "stdout"
        }
      ]
    },
    {
      "cell_type": "markdown",
      "metadata": {
        "id": "ZoaZVDD29JPI",
        "colab_type": "text"
      },
      "source": [
        "Plotando o boxplot para `calculated_host_listings_count`:"
      ]
    },
    {
      "cell_type": "code",
      "metadata": {
        "id": "kGPPHzXg82bw",
        "colab_type": "code",
        "colab": {
          "base_uri": "https://localhost:8080/",
          "height": 211
        },
        "outputId": "b6ebacc2-7d61-46b2-bd5b-4484c729a56b"
      },
      "source": [
        "df_creta.calculated_host_listings_count.plot(kind='box', vert=False, figsize=(15,3))\n",
        "plt.show()"
      ],
      "execution_count": null,
      "outputs": [
        {
          "output_type": "display_data",
          "data": {
            "image/png": "[encoded data removed]",
            "text/plain": [
              "<Figure size 1080x216 with 1 Axes>"
            ]
          },
          "metadata": {
            "tags": [],
            "needs_background": "light"
          }
        }
      ]
    },
    {
      "cell_type": "markdown",
      "metadata": {
        "id": "BNPy_z-b-tjX",
        "colab_type": "text"
      },
      "source": [
        "Visualizar a quantidade de valores acima de 60 para `calculated_host_listings_count`:"
      ]
    },
    {
      "cell_type": "code",
      "metadata": {
        "id": "i9WYZLXl_DBl",
        "colab_type": "code",
        "colab": {
          "base_uri": "https://localhost:8080/",
          "height": 66
        },
        "outputId": "f2534de0-e54b-4b8e-9378-3bc38508d824"
      },
      "source": [
        "print(\"calculated_host_listings_count: valores acima de 60:\")\n",
        "print(\"{} entradas\".format(len(df_creta[df_creta.calculated_host_listings_count > 60])))\n",
        "print(\"{:.4f}%\".format((len(df_creta[df_creta.calculated_host_listings_count > 60]) / df_creta.shape[0])*100))"
      ],
      "execution_count": null,
      "outputs": [
        {
          "output_type": "stream",
          "text": [
            "calculated_host_listings_count: valores acima de 60:\n",
            "1406 entradas\n",
            "7.6450%\n"
          ],
          "name": "stdout"
        }
      ]
    },
    {
      "cell_type": "markdown",
      "metadata": {
        "id": "ZlamD7LpOiFD",
        "colab_type": "text"
      },
      "source": [
        "#### 2.7.3. Histogramas sem *outliers*"
      ]
    },
    {
      "cell_type": "markdown",
      "metadata": {
        "id": "dPCIR7wtOKpo",
        "colab_type": "text"
      },
      "source": [
        "Já que identificamos *outliers* nas variáveis `price` e `minimum_nights`, vamos agora limpar o *DataFrame* delas e plotar novamente o histograma."
      ]
    },
    {
      "cell_type": "markdown",
      "metadata": {
        "id": "5NvQ1LagqbUr",
        "colab_type": "text"
      },
      "source": [
        "Removendo os *outliers* e criando um novo DataFrame `df_clean`:"
      ]
    },
    {
      "cell_type": "code",
      "metadata": {
        "id": "LUtKJW8OOutb",
        "colab_type": "code",
        "colab": {}
      },
      "source": [
        "df_clean = df_creta.copy()\n",
        "df_clean.drop(df_clean[df_clean.price > 1500].index, axis=0, inplace=True)\n",
        "df_clean.drop(df_clean[df_clean.minimum_nights > 30].index, axis=0, inplace=True)"
      ],
      "execution_count": null,
      "outputs": []
    },
    {
      "cell_type": "markdown",
      "metadata": {
        "id": "dY97nCE8qyW8",
        "colab_type": "text"
      },
      "source": [
        "Removendo a variável `neighbourhood_group` porque não possui valores:"
      ]
    },
    {
      "cell_type": "code",
      "metadata": {
        "id": "5aR8CuQbqtsW",
        "colab_type": "code",
        "colab": {}
      },
      "source": [
        "df_clean.drop('neighbourhood_group', axis=1, inplace=True)"
      ],
      "execution_count": null,
      "outputs": []
    },
    {
      "cell_type": "markdown",
      "metadata": {
        "id": "NeyIPDK3rQWG",
        "colab_type": "text"
      },
      "source": [
        "Plotando os histogramas para as variáveis numéricas:"
      ]
    },
    {
      "cell_type": "code",
      "metadata": {
        "id": "7HLIX5uurVDH",
        "colab_type": "code",
        "colab": {
          "base_uri": "https://localhost:8080/",
          "height": 607
        },
        "outputId": "21838b36-d36b-4eea-acdc-a7ec837d05ed"
      },
      "source": [
        "df_clean.hist(bins=15, figsize=(15,10));"
      ],
      "execution_count": null,
      "outputs": [
        {
          "output_type": "display_data",
          "data": {
            "image/png": "[encoded data removed]",
            "text/plain": [
              "<Figure size 1080x720 with 12 Axes>"
            ]
          },
          "metadata": {
            "tags": [],
            "needs_background": "light"
          }
        }
      ]
    },
    {
      "cell_type": "markdown",
      "metadata": {
        "id": "7x4aw1j5wNmn",
        "colab_type": "text"
      },
      "source": [
        "### 2.8. Qual a média dos preços de aluguel?"
      ]
    },
    {
      "cell_type": "markdown",
      "metadata": {
        "id": "NdlpUwuyO7uC",
        "colab_type": "text"
      },
      "source": [
        "Para visualizar a média dos aluguéis usamos o método `mean()`."
      ]
    },
    {
      "cell_type": "code",
      "metadata": {
        "id": "dFr_oKzEPDem",
        "colab_type": "code",
        "colab": {
          "base_uri": "https://localhost:8080/",
          "height": 33
        },
        "outputId": "4f18b089-eab7-4ccd-f665-d978434baa86"
      },
      "source": [
        "print('A média dos preços de aluguel é igual a', df_creta.price.mean())"
      ],
      "execution_count": null,
      "outputs": [
        {
          "output_type": "stream",
          "text": [
            "A média dos preços de aluguel é igual a: 129.57511826436843\n"
          ],
          "name": "stdout"
        }
      ]
    },
    {
      "cell_type": "markdown",
      "metadata": {
        "id": "IXn2oIo5qx-w",
        "colab_type": "text"
      },
      "source": [
        "### 2.9. Qual a correlação existente entre as variáveis"
      ]
    },
    {
      "cell_type": "markdown",
      "metadata": {
        "id": "J4WGnEShqEqG",
        "colab_type": "text"
      },
      "source": [
        "Correlação significa que existe uma relação entre duas coisas. No nosso contexto, estamos buscando relação ou semelhança entre duas variáveis.\n",
        "\n",
        "Essa relação pode ser medida, e é função do coeficiente de correlação estabelecer qual a intensidade dela. Para identificar as correlações existentes entre as variáveis de interesse, vou:\n",
        "\n",
        "* Criar uma matriz de correlação\n",
        "* Gerar um *heatmap* a partir dessa matriz, usando a biblioteca `seaborn`"
      ]
    },
    {
      "cell_type": "markdown",
      "metadata": {
        "id": "jW4s9dtwqMEX",
        "colab_type": "text"
      },
      "source": [
        "Criando uma matriz de correlação:"
      ]
    },
    {
      "cell_type": "code",
      "metadata": {
        "id": "x2ayzBajqxyd",
        "colab_type": "code",
        "colab": {
          "base_uri": "https://localhost:8080/",
          "height": 220
        },
        "outputId": "8d097590-7a88-4d88-842a-d94a8de2ece1"
      },
      "source": [
        "corr = df_clean[['price', 'minimum_nights', 'number_of_reviews', 'reviews_per_month',\n",
        "    'calculated_host_listings_count', 'availability_365']].corr()\n",
        "\n",
        "display(corr)"
      ],
      "execution_count": null,
      "outputs": [
        {
          "output_type": "display_data",
          "data": {
            "text/html": [
              "<div>\n",
              "<style scoped>\n",
              "    .dataframe tbody tr th:only-of-type {\n",
              "        vertical-align: middle;\n",
              "    }\n",
              "\n",
              "    .dataframe tbody tr th {\n",
              "        vertical-align: top;\n",
              "    }\n",
              "\n",
              "    .dataframe thead th {\n",
              "        text-align: right;\n",
              "    }\n",
              "</style>\n",
              "<table border=\"1\" class=\"dataframe\">\n",
              "  <thead>\n",
              "    <tr style=\"text-align: right;\">\n",
              "      <th></th>\n",
              "      <th>price</th>\n",
              "      <th>minimum_nights</th>\n",
              "      <th>number_of_reviews</th>\n",
              "      <th>reviews_per_month</th>\n",
              "      <th>calculated_host_listings_count</th>\n",
              "      <th>availability_365</th>\n",
              "    </tr>\n",
              "  </thead>\n",
              "  <tbody>\n",
              "    <tr>\n",
              "      <th>price</th>\n",
              "      <td>1.000000</td>\n",
              "      <td>0.203562</td>\n",
              "      <td>-0.166218</td>\n",
              "      <td>-0.184733</td>\n",
              "      <td>0.277932</td>\n",
              "      <td>0.020730</td>\n",
              "    </tr>\n",
              "    <tr>\n",
              "      <th>minimum_nights</th>\n",
              "      <td>0.203562</td>\n",
              "      <td>1.000000</td>\n",
              "      <td>-0.079413</td>\n",
              "      <td>-0.133291</td>\n",
              "      <td>0.212686</td>\n",
              "      <td>-0.048160</td>\n",
              "    </tr>\n",
              "    <tr>\n",
              "      <th>number_of_reviews</th>\n",
              "      <td>-0.166218</td>\n",
              "      <td>-0.079413</td>\n",
              "      <td>1.000000</td>\n",
              "      <td>0.788882</td>\n",
              "      <td>-0.107392</td>\n",
              "      <td>0.039197</td>\n",
              "    </tr>\n",
              "    <tr>\n",
              "      <th>reviews_per_month</th>\n",
              "      <td>-0.184733</td>\n",
              "      <td>-0.133291</td>\n",
              "      <td>0.788882</td>\n",
              "      <td>1.000000</td>\n",
              "      <td>-0.130728</td>\n",
              "      <td>0.020582</td>\n",
              "    </tr>\n",
              "    <tr>\n",
              "      <th>calculated_host_listings_count</th>\n",
              "      <td>0.277932</td>\n",
              "      <td>0.212686</td>\n",
              "      <td>-0.107392</td>\n",
              "      <td>-0.130728</td>\n",
              "      <td>1.000000</td>\n",
              "      <td>0.023252</td>\n",
              "    </tr>\n",
              "    <tr>\n",
              "      <th>availability_365</th>\n",
              "      <td>0.020730</td>\n",
              "      <td>-0.048160</td>\n",
              "      <td>0.039197</td>\n",
              "      <td>0.020582</td>\n",
              "      <td>0.023252</td>\n",
              "      <td>1.000000</td>\n",
              "    </tr>\n",
              "  </tbody>\n",
              "</table>\n",
              "</div>"
            ],
            "text/plain": [
              "                                   price  ...  availability_365\n",
              "price                           1.000000  ...          0.020730\n",
              "minimum_nights                  0.203562  ...         -0.048160\n",
              "number_of_reviews              -0.166218  ...          0.039197\n",
              "reviews_per_month              -0.184733  ...          0.020582\n",
              "calculated_host_listings_count  0.277932  ...          0.023252\n",
              "availability_365                0.020730  ...          1.000000\n",
              "\n",
              "[6 rows x 6 columns]"
            ]
          },
          "metadata": {
            "tags": []
          }
        }
      ]
    },
    {
      "cell_type": "markdown",
      "metadata": {
        "id": "Jt-CLPsC1ktQ",
        "colab_type": "text"
      },
      "source": [
        "Plotando um heatmap a partir das correlações: "
      ]
    },
    {
      "cell_type": "code",
      "metadata": {
        "id": "91UujDr6ueqE",
        "colab_type": "code",
        "colab": {
          "base_uri": "https://localhost:8080/",
          "height": 411
        },
        "outputId": "faf5ae18-6f87-4b0d-fa64-1bd66805ddbd"
      },
      "source": [
        "sns.heatmap(corr, cmap='RdBu', fmt='.2f', square=True, linecolor='white', annot=True);"
      ],
      "execution_count": null,
      "outputs": [
        {
          "output_type": "display_data",
          "data": {
            "image/png": "[encoded data removed]",
            "text/plain": [
              "<Figure size 432x288 with 2 Axes>"
            ]
          },
          "metadata": {
            "tags": [],
            "needs_background": "light"
          }
        }
      ]
    },
    {
      "cell_type": "markdown",
      "metadata": {
        "id": "7b6RMWpuHKN-",
        "colab_type": "text"
      },
      "source": [
        "### 2.10. Qual o tipo de imóvel mais alugado no Airbnb?"
      ]
    },
    {
      "cell_type": "markdown",
      "metadata": {
        "id": "987kXx7p2m3Y",
        "colab_type": "text"
      },
      "source": [
        "A coluna da variável room_type indica o tipo de locação que está anunciada no Airbnb. Se você já alugou no site, sabe que existem opções de apartamentos/casas inteiras, apenas o aluguel de um quarto ou mesmo dividir o quarto com outras pessoas.\n",
        "\n",
        "Vamos contar a quantidade de ocorrências de cada tipo de aluguel, usando o método value_counts()."
      ]
    },
    {
      "cell_type": "markdown",
      "metadata": {
        "id": "syY-ke8X3IaB",
        "colab_type": "text"
      },
      "source": [
        "Mostrando a quantidade de cada tipo de imóvel disponível:"
      ]
    },
    {
      "cell_type": "code",
      "metadata": {
        "id": "ueLPNWvPHgfB",
        "colab_type": "code",
        "colab": {
          "base_uri": "https://localhost:8080/",
          "height": 98
        },
        "outputId": "57270de8-ca67-4b27-9e87-f5b16f55baa8"
      },
      "source": [
        "df_clean.room_type.value_counts()"
      ],
      "execution_count": null,
      "outputs": [
        {
          "output_type": "execute_result",
          "data": {
            "text/plain": [
              "Entire home/apt    16137\n",
              "Private room        1537\n",
              "Hotel room           607\n",
              "Shared room           12\n",
              "Name: room_type, dtype: int64"
            ]
          },
          "metadata": {
            "tags": []
          },
          "execution_count": 77
        }
      ]
    },
    {
      "cell_type": "markdown",
      "metadata": {
        "id": "S8fHS2BB3V52",
        "colab_type": "text"
      },
      "source": [
        "Mostrando a porcentagem de cada tipo de imóvel disponível:"
      ]
    },
    {
      "cell_type": "code",
      "metadata": {
        "id": "EvwoO-XAHhIm",
        "colab_type": "code",
        "colab": {
          "base_uri": "https://localhost:8080/",
          "height": 98
        },
        "outputId": "29762a5d-33f2-4413-c492-f5f9715161e8"
      },
      "source": [
        "df_clean.room_type.value_counts() / df_clean.shape[0]"
      ],
      "execution_count": null,
      "outputs": [
        {
          "output_type": "execute_result",
          "data": {
            "text/plain": [
              "Entire home/apt    0.882141\n",
              "Private room       0.084021\n",
              "Hotel room         0.033182\n",
              "Shared room        0.000656\n",
              "Name: room_type, dtype: float64"
            ]
          },
          "metadata": {
            "tags": []
          },
          "execution_count": 78
        }
      ]
    },
    {
      "cell_type": "markdown",
      "metadata": {
        "id": "MFa5NbnLJMcd",
        "colab_type": "text"
      },
      "source": [
        "### 2.11 Qual a localidade mais cara em Creta?\n",
        "\n"
      ]
    },
    {
      "cell_type": "markdown",
      "metadata": {
        "id": "burKfqjw36eA",
        "colab_type": "text"
      },
      "source": [
        "Uma maneira de se verificar uma variável em função da outra é usando `groupby()`. No caso, queremos comparar os bairros (neighbourhoods) a partir do preço de locação."
      ]
    },
    {
      "cell_type": "markdown",
      "metadata": {
        "id": "bzgLu9-y4LsI",
        "colab_type": "text"
      },
      "source": [
        "Ver a média dos preços por bairros:"
      ]
    },
    {
      "cell_type": "code",
      "metadata": {
        "id": "MD_xa143JZpi",
        "colab_type": "code",
        "colab": {
          "base_uri": "https://localhost:8080/",
          "height": 212
        },
        "outputId": "bf3b4a83-beea-4c09-b9e1-fd10833dc2d8"
      },
      "source": [
        "df_clean.groupby(['neighbourhood']).price.mean().sort_values(ascending=False)[:10]"
      ],
      "execution_count": null,
      "outputs": [
        {
          "output_type": "execute_result",
          "data": {
            "text/plain": [
              "neighbourhood\n",
              "Αποκορώνου        160.129032\n",
              "Αγίου Νικολάου    156.374874\n",
              "Πλατανιά          146.383038\n",
              "Μυλοποτάμου       139.721881\n",
              "Ρεθύμνης          135.822430\n",
              "Μαλεβιζίου        130.428380\n",
              "Κισσάμου          122.582794\n",
              "Χανίων            119.764031\n",
              "Ιεράπετρας        107.889213\n",
              "Χερσονήσου        102.316610\n",
              "Name: price, dtype: float64"
            ]
          },
          "metadata": {
            "tags": []
          },
          "execution_count": 79
        }
      ]
    },
    {
      "cell_type": "markdown",
      "metadata": {
        "id": "ktGyHk6A5I0I",
        "colab_type": "text"
      },
      "source": [
        "Como são fornecidas as Latitudes e Longitudes para os imóveis, é possível plotar cada ponto. Para isso, considera-se `x=longitude` e `y=latitude`."
      ]
    },
    {
      "cell_type": "code",
      "metadata": {
        "id": "UxVJqJ_3W59I",
        "colab_type": "code",
        "colab": {
          "base_uri": "https://localhost:8080/",
          "height": 472
        },
        "outputId": "00e301b0-0762-440f-e28b-637b74a34da9"
      },
      "source": [
        "df_clean.plot(kind=\"scatter\", x='longitude', y='latitude', alpha=0.4, c=df_clean['price'], s=8,\n",
        "              cmap=plt.get_cmap('jet'), figsize=(12,8));"
      ],
      "execution_count": null,
      "outputs": [
        {
          "output_type": "display_data",
          "data": {
            "image/png": "[encoded data removed]",
            "text/plain": [
              "<Figure size 864x576 with 2 Axes>"
            ]
          },
          "metadata": {
            "tags": [],
            "needs_background": "light"
          }
        }
      ]
    },
    {
      "cell_type": "markdown",
      "metadata": {
        "id": "vTneAMRUYvr1",
        "colab_type": "text"
      },
      "source": [
        "### 2.12. Qual é a média do mínimo de noites para aluguel (minimum_nights)?"
      ]
    },
    {
      "cell_type": "markdown",
      "metadata": {
        "id": "bPzPY6VI5rOd",
        "colab_type": "text"
      },
      "source": [
        "Para visualizar a média de uma coluna usamos o método `mean()`."
      ]
    },
    {
      "cell_type": "markdown",
      "metadata": {
        "id": "gIgtCjNi5dqo",
        "colab_type": "text"
      },
      "source": [
        "Visualizando a média da variável `minimum_nights`:"
      ]
    },
    {
      "cell_type": "code",
      "metadata": {
        "id": "_VzNhrEgY82N",
        "colab_type": "code",
        "colab": {
          "base_uri": "https://localhost:8080/",
          "height": 33
        },
        "outputId": "11cbb53d-c7d3-4677-dbf9-2babf826a015"
      },
      "source": [
        "print('A média do mínimo de noites é igual a', df_clean.minimum_nights.mean())"
      ],
      "execution_count": null,
      "outputs": [
        {
          "output_type": "stream",
          "text": [
            "A média do mínimo de noites é igual a 3.0476685070792104\n"
          ],
          "name": "stdout"
        }
      ]
    },
    {
      "cell_type": "markdown",
      "metadata": {
        "id": "GkvAg623RjoR",
        "colab_type": "text"
      },
      "source": [
        "## 3. Conclusões\n"
      ]
    },
    {
      "cell_type": "markdown",
      "metadata": {
        "id": "rbZ3Hsy9Ypw8",
        "colab_type": "text"
      },
      "source": [
        "Foi feita apenas uma análise superficial na base de dados do Airbnb, porém já se percebeu que existem outliers em algumas das variáveis.\n",
        "\n",
        "Também se notou que em algumas localidades há poucos imóveis disponíveis, o que pode distorcer as informações estatísticas de alguns atributos.\n",
        "\n",
        "Por fim, lembra-se que este dataset é uma versão resumida, ideal apenas para uma abordagem inicial. Recomenda-se que seja usado, em uma próxima análise exploratória, o conjunto de dados completos."
      ]
    }
  ]
}