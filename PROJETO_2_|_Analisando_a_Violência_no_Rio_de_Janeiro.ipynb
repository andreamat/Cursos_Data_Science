{
  "nbformat": 4,
  "nbformat_minor": 0,
  "metadata": {
    "colab": {
      "name": "PROJETO 2 | Analisando a Violência no Rio de Janeiro.ipynb",
      "provenance": [],
      "collapsed_sections": [],
      "include_colab_link": true
    },
    "kernelspec": {
      "name": "python3",
      "display_name": "Python 3"
    }
  },
  "cells": [
    {
      "cell_type": "markdown",
      "metadata": {
        "id": "view-in-github",
        "colab_type": "text"
      },
      "source": [
        "<a href=\"https://colab.research.google.com/github/andreamat/Cursos_Data_Science/blob/master/PROJETO_2_%7C_Analisando_a_Viol%C3%AAncia_no_Rio_de_Janeiro.ipynb\" target=\"_parent\"><img src=\"https://colab.research.google.com/assets/colab-badge.svg\" alt=\"Open In Colab\"/></a>"
      ]
    },
    {
      "cell_type": "markdown",
      "metadata": {
        "id": "-eFQZydM9O9J",
        "colab_type": "text"
      },
      "source": [
        "#**DSNP - DATA SCIENCE NA PRÁTICA com Carlos Melo**\n",
        "\n",
        "*by [Andréa Rocha](http://lattes.cnpq.br/8217984846199750\n",
        ")*\n",
        "\n",
        "---\n",
        "\n",
        "\n",
        "  "
      ]
    },
    {
      "cell_type": "markdown",
      "metadata": {
        "id": "kLI0gJtzDGuQ",
        "colab_type": "text"
      },
      "source": [
        "# *Projeto 2 | Analisando a Violência no Rio de Janeiro*\n",
        "\n",
        "$\\hspace{0.80cm}$\n",
        "\n",
        "<center><img alt=\"Rio de Janeiro\" width=\"80%\" src=\"https://image.freepik.com/free-vector/brazilian-pattern-colorful-style_1015-216.jpg\"></center>\n",
        "\n",
        "\n",
        "$\\hspace{0.80cm}$\n",
        "\n",
        "Em 1996, a Assembléia Mundial da Saúde declarou a violência como um importante problema de saúde pública. Neste mesmo ano, Organização Mundial da Saúde (OMS) divulgou o primeiro Relatório Mundial sobre Violência e Saúde. O relatório usa a seguinte definição de violência: *“O uso intencional de força ou poder físico, ameaçado ou real, contra alguém, outra pessoa ou contra um grupo ou comunidade, que resulte ou tenha um alta probabilidade de resultar em ferimentos, morte, dano psicológico, mau desenvolvimento ou privação.”* Um resumo sobre alguns dos principais pontos do relatório mundial pode ser encontrado [neste link](https://www.thelancet.com/journals/lancet/article/PIIS0140-6736(02)11133-0/fulltext).\n",
        "\n",
        "De acordo com [World Health Statistics 2020](https://apps.who.int/iris/bitstream/handle/10665/332070/9789240005105-eng.pdf) da OMS, as mortes no Brasil decorrentes de homicídio atingiram 33,3 pessoas a cada 100 mil habitantes. A taxa coloca o país como um dos mais violentos do mundo. O Rio de Janeiro é um dos estados mais violentos do Brasil e vastas áreas estão sob o controle de criminosos, muitos deles ligados a poderosas quadrilhas de narcotráfico. \n",
        "\n",
        "O objetivo deste projeto, é realizar uma análise exploratória sobre a violência no Rio de Janeiro, através das informações disponibilizadas no portal do Instituto de Segurança Pública (ISP) do governo do Rio de Janeiro."
      ]
    },
    {
      "cell_type": "markdown",
      "metadata": {
        "id": "0zxQHhIUDF_2",
        "colab_type": "text"
      },
      "source": [
        "## 1. Obtenção dos Dados##\n",
        "\n",
        "Neste projeto, analisamos a violência no Rio de Janeiro usando as informações disponíveis em [portal ISPDados](http://www.ispdados.rj.gov.br/), página de Dados Abertos do Instituto de Segurança Pública.\n",
        "\n",
        "As informações estatísticas publicadas no portal baseiam-se nas datas em que foram confeccionados os Registros de Ocorrências (ROs). Essas informações são construídas a partir dos ROs lavrados nas delegacias de Polícia Civil do Estado do Rio de Janeiro, além de informações complementares de órgãos específicos da Polícia Militar do Estado do Rio de Janeiro.\n",
        "\n",
        "Para garantir um controle de qualidade, os ROs são submetidos à Corregedoria Geral de Polícia (CGPOL) da Secretaria de Estado de Polícia Civil.\n",
        "\n",
        "O arquivo `csv` utilizado pode ser obtido diretamente [neste link](https://raw.githubusercontent.com/andreamat/Cursos_Data_Science/master/data/violencia_rio.csv)."
      ]
    },
    {
      "cell_type": "markdown",
      "metadata": {
        "id": "X4GZGoo5ovcZ",
        "colab_type": "text"
      },
      "source": [
        "###1.1. Importação dos pacotes necessários###"
      ]
    },
    {
      "cell_type": "markdown",
      "metadata": {
        "id": "zNSlrQjt0nku",
        "colab_type": "text"
      },
      "source": [
        "Para realizar as análises usamos as seguintes blibiotecas Python:\n",
        "* **Pandas** - fornece estruturas e ferramentas para manipulação e análise de dados. \\\\\n",
        "* **NumPy** -  permite realizar cálculos em Arrays Multidimensionais e executar facilmente cálculos numéricos."
      ]
    },
    {
      "cell_type": "markdown",
      "metadata": {
        "id": "w99FTUQxMb1R",
        "colab_type": "text"
      },
      "source": [
        "Importando os pacotes utilizados:"
      ]
    },
    {
      "cell_type": "code",
      "metadata": {
        "id": "UeqiixhtC-Ch",
        "colab_type": "code",
        "colab": {}
      },
      "source": [
        "import pandas as pd\n",
        "import numpy as np"
      ],
      "execution_count": 1,
      "outputs": []
    },
    {
      "cell_type": "markdown",
      "metadata": {
        "id": "7vh4at0l90nr",
        "colab_type": "text"
      },
      "source": [
        "###1.2. Importação dos dados e criação um DataFrame *df_RJ* ###\n",
        "\n"
      ]
    },
    {
      "cell_type": "markdown",
      "metadata": {
        "id": "jjvmpVDxI5Tg",
        "colab_type": "text"
      },
      "source": [
        "O dataset utilizado está no meu diretório no [GitHub](https://github.com/andreamat/Cursos_Data_Science), dessa forma evitamos que em outra ocasião o portal ISP Dados Abertos esteja indisponível ou que o arquivo seja alterado. \n",
        "\n",
        "Criando o dataframe `df_RJ` no pandas a partir do arquivo violencia_rio.csv:"
      ]
    },
    {
      "cell_type": "code",
      "metadata": {
        "id": "YTNKvX1ZDPEO",
        "colab_type": "code",
        "colab": {}
      },
      "source": [
        "df_RJ = pd.read_csv('https://raw.githubusercontent.com/andreamat/Cursos_Data_Science/master/data/violencia_rio.csv')"
      ],
      "execution_count": 2,
      "outputs": []
    },
    {
      "cell_type": "markdown",
      "metadata": {
        "id": "qb5By2nIMS6m",
        "colab_type": "text"
      },
      "source": [
        "## 2. Análise Inicial dos Dados##\n",
        "\n",
        "Para uma melhor compreensão sobre como os dados estão estruturados no nosso dataframe, iniciamos com a visualização das suas dimensões (tamanho do dataframe). Em seguida, verificamos os nomes, a descrição e os tipos das variáveis encontrados no dataframe. Também visualizamos, nessa etapa: as primeiras linhas, as últimas linhas e a porcentagem dos valores ausentes encontrados nas variáveis (colunas).  \n",
        "\n",
        "Essas primeiras informações são importantes para direcionar o nosso trabalho na fase de limpeza de dados, ter uma maior clareza com que tipos de dados estamos lidando e na obtenção de novos *insights* que podem contribuir para as nossas análises. \n",
        "\n",
        "\n",
        "\n",
        "\n",
        "\n",
        "\n",
        "\n",
        "\n",
        "\n"
      ]
    },
    {
      "cell_type": "markdown",
      "metadata": {
        "id": "LVhQuP-QJeW5",
        "colab_type": "text"
      },
      "source": [
        "###2.1. Tamanho do DataFrame###"
      ]
    },
    {
      "cell_type": "markdown",
      "metadata": {
        "id": "OhZ6QaqCfwgf",
        "colab_type": "text"
      },
      "source": [
        "Para verificar o tamanho do nosso dataframe usamos o comando `DataFrame.shape` que retorna uma tupla representando a dimensionalidade do DataFrame. "
      ]
    },
    {
      "cell_type": "markdown",
      "metadata": {
        "id": "5MfgQsXgQrFN",
        "colab_type": "text"
      },
      "source": [
        "Verificando o tamanho de `df_RJ`:"
      ]
    },
    {
      "cell_type": "code",
      "metadata": {
        "id": "ceC9Va_vMGoU",
        "colab_type": "code",
        "colab": {
          "base_uri": "https://localhost:8080/",
          "height": 51
        },
        "outputId": "6a5e72d2-a1b2-4f48-d644-baf188be5937"
      },
      "source": [
        "print('quantidade de linhas (entradas) =', df_RJ.shape[0])\n",
        "print('quantidade de colunas (variáveis) =', df_RJ.shape[1])"
      ],
      "execution_count": 3,
      "outputs": [
        {
          "output_type": "stream",
          "text": [
            "quantidade de linhas (entradas) = 344\n",
            "quantidade de colunas (variáveis) = 56\n"
          ],
          "name": "stdout"
        }
      ]
    },
    {
      "cell_type": "markdown",
      "metadata": {
        "id": "Tf7vwgaZJeip",
        "colab_type": "text"
      },
      "source": [
        "###2.2. Dicionário das variáveis###"
      ]
    },
    {
      "cell_type": "markdown",
      "metadata": {
        "id": "hu_WXlDBRycw",
        "colab_type": "text"
      },
      "source": [
        "Com o comando `DataFrame.columns` conseguimos descobrir os nomes das variáveis (colunas) do dataframe. "
      ]
    },
    {
      "cell_type": "markdown",
      "metadata": {
        "id": "sUv564YzRM90",
        "colab_type": "text"
      },
      "source": [
        "Imprimindo os nomes das variáveis:"
      ]
    },
    {
      "cell_type": "code",
      "metadata": {
        "id": "2X7vEuPdOuay",
        "colab_type": "code",
        "colab": {
          "base_uri": "https://localhost:8080/",
          "height": 306
        },
        "outputId": "dd2ebd43-b369-4881-b8d8-79c17f623ca8"
      },
      "source": [
        "df_RJ.columns"
      ],
      "execution_count": 4,
      "outputs": [
        {
          "output_type": "execute_result",
          "data": {
            "text/plain": [
              "Index(['vano', 'mes', 'hom_doloso', 'lesao_corp_morte', 'latrocinio',\n",
              "       'hom_por_interv_policial', 'tentat_hom', 'lesao_corp_dolosa', 'estupro',\n",
              "       'hom_culposo', 'lesao_corp_culposa', 'roubo_comercio',\n",
              "       'roubo_residencia', 'roubo_veiculo', 'roubo_carga', 'roubo_transeunte',\n",
              "       'roubo_em_coletivo', 'roubo_banco', 'roubo_cx_eletronico',\n",
              "       'roubo_celular', 'roubo_conducao_saque', 'roubo_apos_saque',\n",
              "       'roubo_bicicleta', 'outros_roubos', 'total_roubos', 'furto_veiculos',\n",
              "       'furto_transeunte', 'furto_coletivo', 'furto_celular',\n",
              "       'furto_bicicleta', 'outros_furtos', 'total_furtos', 'sequestro',\n",
              "       'extorsao', 'sequestro_relampago', 'estelionato', 'apreensao_drogas',\n",
              "       'posse_drogas', 'trafico_drogas', 'apreensao_drogas_sem_autor',\n",
              "       'recuperacao_veiculos', 'apf', 'aaapai', 'cmp', 'cmba', 'ameaca',\n",
              "       'pessoas_desaparecidas', 'encontro_cadaver', 'encontro_ossada',\n",
              "       'pol_militares_mortos_serv', 'pol_civis_mortos_serv',\n",
              "       'indicador_letalidade', 'indicador_roubo_rua', 'indicador_roubo_veic',\n",
              "       'registro_ocorrencias', 'fase'],\n",
              "      dtype='object')"
            ]
          },
          "metadata": {
            "tags": []
          },
          "execution_count": 4
        }
      ]
    },
    {
      "cell_type": "markdown",
      "metadata": {
        "id": "2Oqz1JuSbaSv",
        "colab_type": "text"
      },
      "source": [
        "Como podemos observar acima, algumas variáveis como 'apf', 'aaapai', 'cmp' e 'cmba' possuem siglas que não deixam claro o tipo de informação que contêm. Na página [Notas Metodológicas e Dicionários](http://www.ispdados.rj.gov.br/Notas.html) podemos encontrar dicionários com os significados dessas siglas. \n",
        "\n",
        "O arquivo `dicionario_crime_rio.xlsx` baixado no meu GitHub foi usado para criar um dicionário das variáveis e verificar o significado de cada variável."
      ]
    },
    {
      "cell_type": "markdown",
      "metadata": {
        "id": "SolPlLpZST5-",
        "colab_type": "text"
      },
      "source": [
        "Verificando a descrição das variáveis do dataframe:"
      ]
    },
    {
      "cell_type": "code",
      "metadata": {
        "id": "aqwT5ud0WYsc",
        "colab_type": "code",
        "colab": {
          "base_uri": "https://localhost:8080/",
          "height": 1000
        },
        "outputId": "86fb4f4b-3a86-4cf1-dcad-9515c6c18b5e"
      },
      "source": [
        "df_dic = pd.read_excel(\"https://github.com/andreamat/Cursos_Data_Science/blob/master/data/dicionario_crime_rio.xlsx?raw=true\", skiprows = 3, index_col = 0, usecols = [0, 1, 5])\n",
        "\n",
        "# preencher valores ausentes na coluna Grupo\n",
        "df_dic[\"Grupo\"].fillna(method = \"ffill\", inplace=True)\n",
        "df_dic"
      ],
      "execution_count": 5,
      "outputs": [
        {
          "output_type": "execute_result",
          "data": {
            "text/html": [
              "<div>\n",
              "<style scoped>\n",
              "    .dataframe tbody tr th:only-of-type {\n",
              "        vertical-align: middle;\n",
              "    }\n",
              "\n",
              "    .dataframe tbody tr th {\n",
              "        vertical-align: top;\n",
              "    }\n",
              "\n",
              "    .dataframe thead th {\n",
              "        text-align: right;\n",
              "    }\n",
              "</style>\n",
              "<table border=\"1\" class=\"dataframe\">\n",
              "  <thead>\n",
              "    <tr style=\"text-align: right;\">\n",
              "      <th></th>\n",
              "      <th>Descrição da variável</th>\n",
              "      <th>Grupo</th>\n",
              "    </tr>\n",
              "    <tr>\n",
              "      <th>Variável</th>\n",
              "      <th></th>\n",
              "      <th></th>\n",
              "    </tr>\n",
              "  </thead>\n",
              "  <tbody>\n",
              "    <tr>\n",
              "      <th>mes</th>\n",
              "      <td>Mês da comunicação da ocorrência</td>\n",
              "      <td>NaN</td>\n",
              "    </tr>\n",
              "    <tr>\n",
              "      <th>vano</th>\n",
              "      <td>Ano da comunicação da ocorrência</td>\n",
              "      <td>NaN</td>\n",
              "    </tr>\n",
              "    <tr>\n",
              "      <th>fase</th>\n",
              "      <td>2 - Consolidado sem errata    3 - Consolidado ...</td>\n",
              "      <td>NaN</td>\n",
              "    </tr>\n",
              "    <tr>\n",
              "      <th>hom_doloso</th>\n",
              "      <td>Homicídio doloso</td>\n",
              "      <td>VÍTIMAS DE CRIMES VIOLENTOS</td>\n",
              "    </tr>\n",
              "    <tr>\n",
              "      <th>lesao_corp_morte</th>\n",
              "      <td>Lesão corporal seguida de morte</td>\n",
              "      <td>VÍTIMAS DE CRIMES VIOLENTOS</td>\n",
              "    </tr>\n",
              "    <tr>\n",
              "      <th>latrocinio</th>\n",
              "      <td>Latrocínio (roubo seguido de morte)</td>\n",
              "      <td>VÍTIMAS DE CRIMES VIOLENTOS</td>\n",
              "    </tr>\n",
              "    <tr>\n",
              "      <th>hom_por_interv_policial</th>\n",
              "      <td>Morte por intervenção de agente do Estado</td>\n",
              "      <td>VÍTIMAS DE CRIMES VIOLENTOS</td>\n",
              "    </tr>\n",
              "    <tr>\n",
              "      <th>letalidade_violenta</th>\n",
              "      <td>Letalidade violenta</td>\n",
              "      <td>VÍTIMAS DE CRIMES VIOLENTOS</td>\n",
              "    </tr>\n",
              "    <tr>\n",
              "      <th>tentat_hom</th>\n",
              "      <td>Tentativa de homicídio</td>\n",
              "      <td>VÍTIMAS DE CRIMES VIOLENTOS</td>\n",
              "    </tr>\n",
              "    <tr>\n",
              "      <th>lesao_corp_dolosa</th>\n",
              "      <td>Lesão corporal dolosa</td>\n",
              "      <td>VÍTIMAS DE CRIMES VIOLENTOS</td>\n",
              "    </tr>\n",
              "    <tr>\n",
              "      <th>estupro</th>\n",
              "      <td>Estupro</td>\n",
              "      <td>VÍTIMAS DE CRIMES VIOLENTOS</td>\n",
              "    </tr>\n",
              "    <tr>\n",
              "      <th>hom_culposo</th>\n",
              "      <td>Homicídio culposo (trânsito)</td>\n",
              "      <td>VÍTIMAS DE CRIMES DE TRÂNSITO</td>\n",
              "    </tr>\n",
              "    <tr>\n",
              "      <th>lesao_corp_culposa</th>\n",
              "      <td>Lesão corporal culposa (trânsito)</td>\n",
              "      <td>VÍTIMAS DE CRIMES DE TRÂNSITO</td>\n",
              "    </tr>\n",
              "    <tr>\n",
              "      <th>roubo_comercio</th>\n",
              "      <td>Roubo a estabelecimento comercial</td>\n",
              "      <td>ROUBOS</td>\n",
              "    </tr>\n",
              "    <tr>\n",
              "      <th>roubo_residencia</th>\n",
              "      <td>Roubo a residência</td>\n",
              "      <td>ROUBOS</td>\n",
              "    </tr>\n",
              "    <tr>\n",
              "      <th>roubo_veiculo</th>\n",
              "      <td>Roubo de veículo</td>\n",
              "      <td>ROUBOS</td>\n",
              "    </tr>\n",
              "    <tr>\n",
              "      <th>roubo_carga</th>\n",
              "      <td>Roubo de carga</td>\n",
              "      <td>ROUBOS</td>\n",
              "    </tr>\n",
              "    <tr>\n",
              "      <th>roubo_transeunte</th>\n",
              "      <td>Roubo a transeunte</td>\n",
              "      <td>ROUBOS</td>\n",
              "    </tr>\n",
              "    <tr>\n",
              "      <th>roubo_em_coletivo</th>\n",
              "      <td>Roubo em coletivo</td>\n",
              "      <td>ROUBOS</td>\n",
              "    </tr>\n",
              "    <tr>\n",
              "      <th>roubo_banco</th>\n",
              "      <td>Roubo a banco</td>\n",
              "      <td>ROUBOS</td>\n",
              "    </tr>\n",
              "    <tr>\n",
              "      <th>roubo_cx_eletronico</th>\n",
              "      <td>Roubo de caixa eletrônico</td>\n",
              "      <td>ROUBOS</td>\n",
              "    </tr>\n",
              "    <tr>\n",
              "      <th>roubo_celular</th>\n",
              "      <td>Roubo de telefone celular</td>\n",
              "      <td>ROUBOS</td>\n",
              "    </tr>\n",
              "    <tr>\n",
              "      <th>roubo_conducao_saque</th>\n",
              "      <td>Roubo com condução da vítima para saque em i...</td>\n",
              "      <td>ROUBOS</td>\n",
              "    </tr>\n",
              "    <tr>\n",
              "      <th>roubo_apos_saque</th>\n",
              "      <td>Roubo após saque em instituição financeira</td>\n",
              "      <td>ROUBOS</td>\n",
              "    </tr>\n",
              "    <tr>\n",
              "      <th>roubo_bicicleta</th>\n",
              "      <td>Roubo de bicicleta</td>\n",
              "      <td>ROUBOS</td>\n",
              "    </tr>\n",
              "    <tr>\n",
              "      <th>outros_roubos</th>\n",
              "      <td>Outros roubos que não os listados acima</td>\n",
              "      <td>ROUBOS</td>\n",
              "    </tr>\n",
              "    <tr>\n",
              "      <th>total_roubos</th>\n",
              "      <td>Total de roubos</td>\n",
              "      <td>ROUBOS</td>\n",
              "    </tr>\n",
              "    <tr>\n",
              "      <th>furto_veiculos</th>\n",
              "      <td>Furto de veículo</td>\n",
              "      <td>FURTOS</td>\n",
              "    </tr>\n",
              "    <tr>\n",
              "      <th>furto_transeunte</th>\n",
              "      <td>Furto a transeunte</td>\n",
              "      <td>FURTOS</td>\n",
              "    </tr>\n",
              "    <tr>\n",
              "      <th>furto_coletivo</th>\n",
              "      <td>Furto em coletivo</td>\n",
              "      <td>FURTOS</td>\n",
              "    </tr>\n",
              "    <tr>\n",
              "      <th>furto_celular</th>\n",
              "      <td>Furto de telefone celular</td>\n",
              "      <td>FURTOS</td>\n",
              "    </tr>\n",
              "    <tr>\n",
              "      <th>furto_bicicleta</th>\n",
              "      <td>Furto de bicicleta</td>\n",
              "      <td>FURTOS</td>\n",
              "    </tr>\n",
              "    <tr>\n",
              "      <th>outros_furtos</th>\n",
              "      <td>Outros furtos que não os listados acima</td>\n",
              "      <td>FURTOS</td>\n",
              "    </tr>\n",
              "    <tr>\n",
              "      <th>total_furtos</th>\n",
              "      <td>Total de furtos</td>\n",
              "      <td>FURTOS</td>\n",
              "    </tr>\n",
              "    <tr>\n",
              "      <th>sequestro</th>\n",
              "      <td>Extorsão mediante sequestro (sequestro cláss...</td>\n",
              "      <td>OUTROS REGISTROS DE CRIME CONTRA O PATRIMÔNIO</td>\n",
              "    </tr>\n",
              "    <tr>\n",
              "      <th>extorsao</th>\n",
              "      <td>Extorsão</td>\n",
              "      <td>OUTROS REGISTROS DE CRIME CONTRA O PATRIMÔNIO</td>\n",
              "    </tr>\n",
              "    <tr>\n",
              "      <th>sequestro_relampago</th>\n",
              "      <td>Extorsão com momentânea privação da liberdad...</td>\n",
              "      <td>OUTROS REGISTROS DE CRIME CONTRA O PATRIMÔNIO</td>\n",
              "    </tr>\n",
              "    <tr>\n",
              "      <th>estelionato</th>\n",
              "      <td>Estelionato</td>\n",
              "      <td>OUTROS REGISTROS DE CRIME CONTRA O PATRIMÔNIO</td>\n",
              "    </tr>\n",
              "    <tr>\n",
              "      <th>apreensao_drogas</th>\n",
              "      <td>Apreensão de drogas</td>\n",
              "      <td>ATIVIDADE POLICIAL</td>\n",
              "    </tr>\n",
              "    <tr>\n",
              "      <th>posse_drogas</th>\n",
              "      <td>Número de registros que possuem algum título r...</td>\n",
              "      <td>ATIVIDADE POLICIAL</td>\n",
              "    </tr>\n",
              "    <tr>\n",
              "      <th>trafico_drogas</th>\n",
              "      <td>Número de registros que possuem algum título r...</td>\n",
              "      <td>ATIVIDADE POLICIAL</td>\n",
              "    </tr>\n",
              "    <tr>\n",
              "      <th>apreensao_drogas_sem_autor</th>\n",
              "      <td>Número de registros que possuem algum título r...</td>\n",
              "      <td>ATIVIDADE POLICIAL</td>\n",
              "    </tr>\n",
              "    <tr>\n",
              "      <th>recuperacao_veiculos</th>\n",
              "      <td>Recuperação de veículo</td>\n",
              "      <td>ATIVIDADE POLICIAL</td>\n",
              "    </tr>\n",
              "    <tr>\n",
              "      <th>apf</th>\n",
              "      <td>Auto de Prisão em Flagrante</td>\n",
              "      <td>ATIVIDADE POLICIAL</td>\n",
              "    </tr>\n",
              "    <tr>\n",
              "      <th>aaapai</th>\n",
              "      <td>Auto de Apreensão de Adolescente por Prática d...</td>\n",
              "      <td>ATIVIDADE POLICIAL</td>\n",
              "    </tr>\n",
              "    <tr>\n",
              "      <th>cmp</th>\n",
              "      <td>Cumprimento de Mandado de Prisão</td>\n",
              "      <td>ATIVIDADE POLICIAL</td>\n",
              "    </tr>\n",
              "    <tr>\n",
              "      <th>cmba</th>\n",
              "      <td>Cumprimento de Mandado de Busca e Apreensão</td>\n",
              "      <td>ATIVIDADE POLICIAL</td>\n",
              "    </tr>\n",
              "    <tr>\n",
              "      <th>ameaca</th>\n",
              "      <td>Ameaça</td>\n",
              "      <td>OUTROS REGISTROS</td>\n",
              "    </tr>\n",
              "    <tr>\n",
              "      <th>pessoas_desaparecidas</th>\n",
              "      <td>Pessoas desaparecidas</td>\n",
              "      <td>OUTROS REGISTROS</td>\n",
              "    </tr>\n",
              "    <tr>\n",
              "      <th>encontro_cadaver</th>\n",
              "      <td>Encontro de cadáver</td>\n",
              "      <td>OUTROS REGISTROS</td>\n",
              "    </tr>\n",
              "    <tr>\n",
              "      <th>encontro_ossada</th>\n",
              "      <td>Encontro de ossada</td>\n",
              "      <td>OUTROS REGISTROS</td>\n",
              "    </tr>\n",
              "    <tr>\n",
              "      <th>pol_militares_mortos_serv</th>\n",
              "      <td>Policiais Militares mortos em serviço</td>\n",
              "      <td>OUTROS REGISTROS</td>\n",
              "    </tr>\n",
              "    <tr>\n",
              "      <th>pol_civis_mortos_serv</th>\n",
              "      <td>Policiais Civis mortos em serviço</td>\n",
              "      <td>OUTROS REGISTROS</td>\n",
              "    </tr>\n",
              "    <tr>\n",
              "      <th>indicador_cvli</th>\n",
              "      <td>Indicadores Estratégicos: Crimes violentos let...</td>\n",
              "      <td>INDICADORES ESTRATÉGICOS</td>\n",
              "    </tr>\n",
              "    <tr>\n",
              "      <th>indicador_roubo_rua</th>\n",
              "      <td>Indicadores Estratégicos: Roubo de rua</td>\n",
              "      <td>INDICADORES ESTRATÉGICOS</td>\n",
              "    </tr>\n",
              "    <tr>\n",
              "      <th>indicador_roubo_veic</th>\n",
              "      <td>Indicadores Estratégicos: Roubo de veículo</td>\n",
              "      <td>INDICADORES ESTRATÉGICOS</td>\n",
              "    </tr>\n",
              "    <tr>\n",
              "      <th>indicador_roubo_carga</th>\n",
              "      <td>Indicadores Estratégicos: Roubo de carga</td>\n",
              "      <td>INDICADORES ESTRATÉGICOS</td>\n",
              "    </tr>\n",
              "    <tr>\n",
              "      <th>registro_ocorrencias</th>\n",
              "      <td>Registro de ocorrências</td>\n",
              "      <td>REGISTROS DE OCORRÊNCIAS</td>\n",
              "    </tr>\n",
              "  </tbody>\n",
              "</table>\n",
              "</div>"
            ],
            "text/plain": [
              "                                                        Descrição da variável                                          Grupo\n",
              "Variável                                                                                                                    \n",
              "mes                                          Mês da comunicação da ocorrência                                            NaN\n",
              "vano                                         Ano da comunicação da ocorrência                                            NaN\n",
              "fase                        2 - Consolidado sem errata    3 - Consolidado ...                                            NaN\n",
              "hom_doloso                                                   Homicídio doloso                    VÍTIMAS DE CRIMES VIOLENTOS\n",
              "lesao_corp_morte                              Lesão corporal seguida de morte                    VÍTIMAS DE CRIMES VIOLENTOS\n",
              "latrocinio                                Latrocínio (roubo seguido de morte)                    VÍTIMAS DE CRIMES VIOLENTOS\n",
              "hom_por_interv_policial             Morte por intervenção de agente do Estado                    VÍTIMAS DE CRIMES VIOLENTOS\n",
              "letalidade_violenta                                       Letalidade violenta                    VÍTIMAS DE CRIMES VIOLENTOS\n",
              "tentat_hom                                             Tentativa de homicídio                    VÍTIMAS DE CRIMES VIOLENTOS\n",
              "lesao_corp_dolosa                                       Lesão corporal dolosa                    VÍTIMAS DE CRIMES VIOLENTOS\n",
              "estupro                                                               Estupro                    VÍTIMAS DE CRIMES VIOLENTOS\n",
              "hom_culposo                                      Homicídio culposo (trânsito)                  VÍTIMAS DE CRIMES DE TRÂNSITO\n",
              "lesao_corp_culposa                          Lesão corporal culposa (trânsito)                  VÍTIMAS DE CRIMES DE TRÂNSITO\n",
              "roubo_comercio                              Roubo a estabelecimento comercial                                         ROUBOS\n",
              "roubo_residencia                                           Roubo a residência                                         ROUBOS\n",
              "roubo_veiculo                                                Roubo de veículo                                         ROUBOS\n",
              "roubo_carga                                                    Roubo de carga                                         ROUBOS\n",
              "roubo_transeunte                                           Roubo a transeunte                                         ROUBOS\n",
              "roubo_em_coletivo                                           Roubo em coletivo                                         ROUBOS\n",
              "roubo_banco                                                     Roubo a banco                                         ROUBOS\n",
              "roubo_cx_eletronico                                 Roubo de caixa eletrônico                                         ROUBOS\n",
              "roubo_celular                                       Roubo de telefone celular                                         ROUBOS\n",
              "roubo_conducao_saque          Roubo com condução da vítima para saque em i...                                         ROUBOS\n",
              "roubo_apos_saque                   Roubo após saque em instituição financeira                                         ROUBOS\n",
              "roubo_bicicleta                                            Roubo de bicicleta                                         ROUBOS\n",
              "outros_roubos                         Outros roubos que não os listados acima                                         ROUBOS\n",
              "total_roubos                                                  Total de roubos                                         ROUBOS\n",
              "furto_veiculos                                               Furto de veículo                                         FURTOS\n",
              "furto_transeunte                                           Furto a transeunte                                         FURTOS\n",
              "furto_coletivo                                              Furto em coletivo                                         FURTOS\n",
              "furto_celular                                       Furto de telefone celular                                         FURTOS\n",
              "furto_bicicleta                                            Furto de bicicleta                                         FURTOS\n",
              "outros_furtos                         Outros furtos que não os listados acima                                         FURTOS\n",
              "total_furtos                                                  Total de furtos                                         FURTOS\n",
              "sequestro                     Extorsão mediante sequestro (sequestro cláss...  OUTROS REGISTROS DE CRIME CONTRA O PATRIMÔNIO\n",
              "extorsao                                                            Extorsão   OUTROS REGISTROS DE CRIME CONTRA O PATRIMÔNIO\n",
              "sequestro_relampago           Extorsão com momentânea privação da liberdad...  OUTROS REGISTROS DE CRIME CONTRA O PATRIMÔNIO\n",
              "estelionato                                                       Estelionato  OUTROS REGISTROS DE CRIME CONTRA O PATRIMÔNIO\n",
              "apreensao_drogas                                          Apreensão de drogas                             ATIVIDADE POLICIAL\n",
              "posse_drogas                Número de registros que possuem algum título r...                             ATIVIDADE POLICIAL\n",
              "trafico_drogas              Número de registros que possuem algum título r...                             ATIVIDADE POLICIAL\n",
              "apreensao_drogas_sem_autor  Número de registros que possuem algum título r...                             ATIVIDADE POLICIAL\n",
              "recuperacao_veiculos                                   Recuperação de veículo                             ATIVIDADE POLICIAL\n",
              "apf                                               Auto de Prisão em Flagrante                             ATIVIDADE POLICIAL\n",
              "aaapai                      Auto de Apreensão de Adolescente por Prática d...                             ATIVIDADE POLICIAL\n",
              "cmp                                          Cumprimento de Mandado de Prisão                             ATIVIDADE POLICIAL\n",
              "cmba                              Cumprimento de Mandado de Busca e Apreensão                             ATIVIDADE POLICIAL\n",
              "ameaca                                                                Ameaça                                OUTROS REGISTROS\n",
              "pessoas_desaparecidas                                   Pessoas desaparecidas                               OUTROS REGISTROS\n",
              "encontro_cadaver                                          Encontro de cadáver                               OUTROS REGISTROS\n",
              "encontro_ossada                                            Encontro de ossada                               OUTROS REGISTROS\n",
              "pol_militares_mortos_serv               Policiais Militares mortos em serviço                               OUTROS REGISTROS\n",
              "pol_civis_mortos_serv                       Policiais Civis mortos em serviço                               OUTROS REGISTROS\n",
              "indicador_cvli              Indicadores Estratégicos: Crimes violentos let...                       INDICADORES ESTRATÉGICOS\n",
              "indicador_roubo_rua                    Indicadores Estratégicos: Roubo de rua                       INDICADORES ESTRATÉGICOS\n",
              "indicador_roubo_veic               Indicadores Estratégicos: Roubo de veículo                       INDICADORES ESTRATÉGICOS\n",
              "indicador_roubo_carga                Indicadores Estratégicos: Roubo de carga                       INDICADORES ESTRATÉGICOS\n",
              "registro_ocorrencias                                  Registro de ocorrências                       REGISTROS DE OCORRÊNCIAS"
            ]
          },
          "metadata": {
            "tags": []
          },
          "execution_count": 5
        }
      ]
    },
    {
      "cell_type": "markdown",
      "metadata": {
        "id": "8aqcoW1pJes8",
        "colab_type": "text"
      },
      "source": [
        "###2.3. Tipos de variáveis###"
      ]
    },
    {
      "cell_type": "markdown",
      "metadata": {
        "id": "SQk0mMmUXxn1",
        "colab_type": "text"
      },
      "source": [
        "Para verificar se as nossas variáveis são numéricas ou strings usamos o comando `DataFrame.dtypes` que retorna uma série com o tipo de dados de cada coluna.  "
      ]
    },
    {
      "cell_type": "markdown",
      "metadata": {
        "id": "YXIUJosdlSiG",
        "colab_type": "text"
      },
      "source": [
        "Mostrando os tipos das variáveis:"
      ]
    },
    {
      "cell_type": "code",
      "metadata": {
        "id": "SlgbsyHQPbnb",
        "colab_type": "code",
        "colab": {
          "base_uri": "https://localhost:8080/",
          "height": 986
        },
        "outputId": "6c9be098-b643-4ea7-9a3f-414eaa7d9114"
      },
      "source": [
        "df_RJ.dtypes"
      ],
      "execution_count": 6,
      "outputs": [
        {
          "output_type": "execute_result",
          "data": {
            "text/plain": [
              "vano                            int64\n",
              "mes                             int64\n",
              "hom_doloso                      int64\n",
              "lesao_corp_morte              float64\n",
              "latrocinio                      int64\n",
              "hom_por_interv_policial       float64\n",
              "tentat_hom                      int64\n",
              "lesao_corp_dolosa               int64\n",
              "estupro                       float64\n",
              "hom_culposo                   float64\n",
              "lesao_corp_culposa            float64\n",
              "roubo_comercio                  int64\n",
              "roubo_residencia                int64\n",
              "roubo_veiculo                   int64\n",
              "roubo_carga                     int64\n",
              "roubo_transeunte                int64\n",
              "roubo_em_coletivo               int64\n",
              "roubo_banco                     int64\n",
              "roubo_cx_eletronico           float64\n",
              "roubo_celular                 float64\n",
              "roubo_conducao_saque          float64\n",
              "roubo_apos_saque              float64\n",
              "roubo_bicicleta               float64\n",
              "outros_roubos                   int64\n",
              "total_roubos                    int64\n",
              "furto_veiculos                  int64\n",
              "furto_transeunte                int64\n",
              "furto_coletivo                float64\n",
              "furto_celular                 float64\n",
              "furto_bicicleta               float64\n",
              "outros_furtos                   int64\n",
              "total_furtos                    int64\n",
              "sequestro                     float64\n",
              "extorsao                      float64\n",
              "sequestro_relampago           float64\n",
              "estelionato                   float64\n",
              "apreensao_drogas                int64\n",
              "posse_drogas                  float64\n",
              "trafico_drogas                float64\n",
              "apreensao_drogas_sem_autor    float64\n",
              "recuperacao_veiculos            int64\n",
              "apf                           float64\n",
              "aaapai                        float64\n",
              "cmp                           float64\n",
              "cmba                          float64\n",
              "ameaca                        float64\n",
              "pessoas_desaparecidas         float64\n",
              "encontro_cadaver                int64\n",
              "encontro_ossada               float64\n",
              "pol_militares_mortos_serv     float64\n",
              "pol_civis_mortos_serv         float64\n",
              "indicador_letalidade            int64\n",
              "indicador_roubo_rua             int64\n",
              "indicador_roubo_veic            int64\n",
              "registro_ocorrencias          float64\n",
              "fase                            int64\n",
              "dtype: object"
            ]
          },
          "metadata": {
            "tags": []
          },
          "execution_count": 6
        }
      ]
    },
    {
      "cell_type": "markdown",
      "metadata": {
        "id": "jjcQPGjxi0To",
        "colab_type": "text"
      },
      "source": [
        "Todas as variáveis desse dataframe são numéricas, do tipo números inteiros (`int`) ou números de pontos flutuantes ou reais (`float`)."
      ]
    },
    {
      "cell_type": "markdown",
      "metadata": {
        "id": "aKlh7v5pJe2A",
        "colab_type": "text"
      },
      "source": [
        "###2.4. Primeiras e últimas entradas do DataFrame ###"
      ]
    },
    {
      "cell_type": "markdown",
      "metadata": {
        "id": "EEYwRK89snoh",
        "colab_type": "text"
      },
      "source": [
        "Agora, vamos ver como os dados estão organizados nesse dataframe. Essa visualização permite termos uma ideia geral das informações que podem ser obtidas através desse conjuntos de dados."
      ]
    },
    {
      "cell_type": "markdown",
      "metadata": {
        "id": "AB2wTFbNwAtE",
        "colab_type": "text"
      },
      "source": [
        "Visualizando as 5 primeiras entradas:"
      ]
    },
    {
      "cell_type": "code",
      "metadata": {
        "id": "cHtrqE5GPj81",
        "colab_type": "code",
        "colab": {
          "base_uri": "https://localhost:8080/",
          "height": 224
        },
        "outputId": "e750d0d0-6cfc-4ebe-d4fc-b945dba7b456"
      },
      "source": [
        "df_RJ.head()"
      ],
      "execution_count": 7,
      "outputs": [
        {
          "output_type": "execute_result",
          "data": {
            "text/html": [
              "<div>\n",
              "<style scoped>\n",
              "    .dataframe tbody tr th:only-of-type {\n",
              "        vertical-align: middle;\n",
              "    }\n",
              "\n",
              "    .dataframe tbody tr th {\n",
              "        vertical-align: top;\n",
              "    }\n",
              "\n",
              "    .dataframe thead th {\n",
              "        text-align: right;\n",
              "    }\n",
              "</style>\n",
              "<table border=\"1\" class=\"dataframe\">\n",
              "  <thead>\n",
              "    <tr style=\"text-align: right;\">\n",
              "      <th></th>\n",
              "      <th>vano</th>\n",
              "      <th>mes</th>\n",
              "      <th>hom_doloso</th>\n",
              "      <th>lesao_corp_morte</th>\n",
              "      <th>latrocinio</th>\n",
              "      <th>hom_por_interv_policial</th>\n",
              "      <th>tentat_hom</th>\n",
              "      <th>lesao_corp_dolosa</th>\n",
              "      <th>estupro</th>\n",
              "      <th>hom_culposo</th>\n",
              "      <th>lesao_corp_culposa</th>\n",
              "      <th>roubo_comercio</th>\n",
              "      <th>roubo_residencia</th>\n",
              "      <th>roubo_veiculo</th>\n",
              "      <th>roubo_carga</th>\n",
              "      <th>roubo_transeunte</th>\n",
              "      <th>roubo_em_coletivo</th>\n",
              "      <th>roubo_banco</th>\n",
              "      <th>roubo_cx_eletronico</th>\n",
              "      <th>roubo_celular</th>\n",
              "      <th>roubo_conducao_saque</th>\n",
              "      <th>roubo_apos_saque</th>\n",
              "      <th>roubo_bicicleta</th>\n",
              "      <th>outros_roubos</th>\n",
              "      <th>total_roubos</th>\n",
              "      <th>furto_veiculos</th>\n",
              "      <th>furto_transeunte</th>\n",
              "      <th>furto_coletivo</th>\n",
              "      <th>furto_celular</th>\n",
              "      <th>furto_bicicleta</th>\n",
              "      <th>outros_furtos</th>\n",
              "      <th>total_furtos</th>\n",
              "      <th>sequestro</th>\n",
              "      <th>extorsao</th>\n",
              "      <th>sequestro_relampago</th>\n",
              "      <th>estelionato</th>\n",
              "      <th>apreensao_drogas</th>\n",
              "      <th>posse_drogas</th>\n",
              "      <th>trafico_drogas</th>\n",
              "      <th>apreensao_drogas_sem_autor</th>\n",
              "      <th>recuperacao_veiculos</th>\n",
              "      <th>apf</th>\n",
              "      <th>aaapai</th>\n",
              "      <th>cmp</th>\n",
              "      <th>cmba</th>\n",
              "      <th>ameaca</th>\n",
              "      <th>pessoas_desaparecidas</th>\n",
              "      <th>encontro_cadaver</th>\n",
              "      <th>encontro_ossada</th>\n",
              "      <th>pol_militares_mortos_serv</th>\n",
              "      <th>pol_civis_mortos_serv</th>\n",
              "      <th>indicador_letalidade</th>\n",
              "      <th>indicador_roubo_rua</th>\n",
              "      <th>indicador_roubo_veic</th>\n",
              "      <th>registro_ocorrencias</th>\n",
              "      <th>fase</th>\n",
              "    </tr>\n",
              "  </thead>\n",
              "  <tbody>\n",
              "    <tr>\n",
              "      <th>0</th>\n",
              "      <td>1991</td>\n",
              "      <td>1</td>\n",
              "      <td>657</td>\n",
              "      <td>NaN</td>\n",
              "      <td>15</td>\n",
              "      <td>NaN</td>\n",
              "      <td>162</td>\n",
              "      <td>3051</td>\n",
              "      <td>NaN</td>\n",
              "      <td>NaN</td>\n",
              "      <td>NaN</td>\n",
              "      <td>350</td>\n",
              "      <td>188</td>\n",
              "      <td>1174</td>\n",
              "      <td>63</td>\n",
              "      <td>967</td>\n",
              "      <td>381</td>\n",
              "      <td>37</td>\n",
              "      <td>NaN</td>\n",
              "      <td>NaN</td>\n",
              "      <td>NaN</td>\n",
              "      <td>NaN</td>\n",
              "      <td>NaN</td>\n",
              "      <td>158</td>\n",
              "      <td>3318</td>\n",
              "      <td>2009</td>\n",
              "      <td>1147</td>\n",
              "      <td>NaN</td>\n",
              "      <td>NaN</td>\n",
              "      <td>NaN</td>\n",
              "      <td>3561</td>\n",
              "      <td>6717</td>\n",
              "      <td>NaN</td>\n",
              "      <td>NaN</td>\n",
              "      <td>NaN</td>\n",
              "      <td>NaN</td>\n",
              "      <td>133</td>\n",
              "      <td>NaN</td>\n",
              "      <td>NaN</td>\n",
              "      <td>NaN</td>\n",
              "      <td>872</td>\n",
              "      <td>NaN</td>\n",
              "      <td>NaN</td>\n",
              "      <td>NaN</td>\n",
              "      <td>NaN</td>\n",
              "      <td>NaN</td>\n",
              "      <td>NaN</td>\n",
              "      <td>217</td>\n",
              "      <td>NaN</td>\n",
              "      <td>NaN</td>\n",
              "      <td>NaN</td>\n",
              "      <td>672</td>\n",
              "      <td>1348</td>\n",
              "      <td>1174</td>\n",
              "      <td>NaN</td>\n",
              "      <td>3</td>\n",
              "    </tr>\n",
              "    <tr>\n",
              "      <th>1</th>\n",
              "      <td>1991</td>\n",
              "      <td>2</td>\n",
              "      <td>732</td>\n",
              "      <td>NaN</td>\n",
              "      <td>17</td>\n",
              "      <td>NaN</td>\n",
              "      <td>175</td>\n",
              "      <td>3421</td>\n",
              "      <td>NaN</td>\n",
              "      <td>NaN</td>\n",
              "      <td>NaN</td>\n",
              "      <td>357</td>\n",
              "      <td>171</td>\n",
              "      <td>1097</td>\n",
              "      <td>64</td>\n",
              "      <td>963</td>\n",
              "      <td>432</td>\n",
              "      <td>35</td>\n",
              "      <td>NaN</td>\n",
              "      <td>NaN</td>\n",
              "      <td>NaN</td>\n",
              "      <td>NaN</td>\n",
              "      <td>NaN</td>\n",
              "      <td>142</td>\n",
              "      <td>3261</td>\n",
              "      <td>1850</td>\n",
              "      <td>1066</td>\n",
              "      <td>NaN</td>\n",
              "      <td>NaN</td>\n",
              "      <td>NaN</td>\n",
              "      <td>3309</td>\n",
              "      <td>6225</td>\n",
              "      <td>NaN</td>\n",
              "      <td>NaN</td>\n",
              "      <td>NaN</td>\n",
              "      <td>NaN</td>\n",
              "      <td>127</td>\n",
              "      <td>NaN</td>\n",
              "      <td>NaN</td>\n",
              "      <td>NaN</td>\n",
              "      <td>751</td>\n",
              "      <td>NaN</td>\n",
              "      <td>NaN</td>\n",
              "      <td>NaN</td>\n",
              "      <td>NaN</td>\n",
              "      <td>NaN</td>\n",
              "      <td>NaN</td>\n",
              "      <td>209</td>\n",
              "      <td>NaN</td>\n",
              "      <td>NaN</td>\n",
              "      <td>NaN</td>\n",
              "      <td>749</td>\n",
              "      <td>1395</td>\n",
              "      <td>1097</td>\n",
              "      <td>NaN</td>\n",
              "      <td>3</td>\n",
              "    </tr>\n",
              "    <tr>\n",
              "      <th>2</th>\n",
              "      <td>1991</td>\n",
              "      <td>3</td>\n",
              "      <td>713</td>\n",
              "      <td>NaN</td>\n",
              "      <td>25</td>\n",
              "      <td>NaN</td>\n",
              "      <td>216</td>\n",
              "      <td>3613</td>\n",
              "      <td>NaN</td>\n",
              "      <td>NaN</td>\n",
              "      <td>NaN</td>\n",
              "      <td>443</td>\n",
              "      <td>191</td>\n",
              "      <td>1265</td>\n",
              "      <td>71</td>\n",
              "      <td>963</td>\n",
              "      <td>422</td>\n",
              "      <td>43</td>\n",
              "      <td>NaN</td>\n",
              "      <td>NaN</td>\n",
              "      <td>NaN</td>\n",
              "      <td>NaN</td>\n",
              "      <td>NaN</td>\n",
              "      <td>131</td>\n",
              "      <td>3529</td>\n",
              "      <td>2084</td>\n",
              "      <td>1062</td>\n",
              "      <td>NaN</td>\n",
              "      <td>NaN</td>\n",
              "      <td>NaN</td>\n",
              "      <td>3573</td>\n",
              "      <td>6719</td>\n",
              "      <td>NaN</td>\n",
              "      <td>NaN</td>\n",
              "      <td>NaN</td>\n",
              "      <td>NaN</td>\n",
              "      <td>80</td>\n",
              "      <td>NaN</td>\n",
              "      <td>NaN</td>\n",
              "      <td>NaN</td>\n",
              "      <td>789</td>\n",
              "      <td>NaN</td>\n",
              "      <td>NaN</td>\n",
              "      <td>NaN</td>\n",
              "      <td>NaN</td>\n",
              "      <td>NaN</td>\n",
              "      <td>NaN</td>\n",
              "      <td>188</td>\n",
              "      <td>NaN</td>\n",
              "      <td>NaN</td>\n",
              "      <td>NaN</td>\n",
              "      <td>738</td>\n",
              "      <td>1385</td>\n",
              "      <td>1265</td>\n",
              "      <td>NaN</td>\n",
              "      <td>3</td>\n",
              "    </tr>\n",
              "    <tr>\n",
              "      <th>3</th>\n",
              "      <td>1991</td>\n",
              "      <td>4</td>\n",
              "      <td>634</td>\n",
              "      <td>NaN</td>\n",
              "      <td>20</td>\n",
              "      <td>NaN</td>\n",
              "      <td>200</td>\n",
              "      <td>3211</td>\n",
              "      <td>NaN</td>\n",
              "      <td>NaN</td>\n",
              "      <td>NaN</td>\n",
              "      <td>425</td>\n",
              "      <td>199</td>\n",
              "      <td>1415</td>\n",
              "      <td>81</td>\n",
              "      <td>1186</td>\n",
              "      <td>354</td>\n",
              "      <td>36</td>\n",
              "      <td>NaN</td>\n",
              "      <td>NaN</td>\n",
              "      <td>NaN</td>\n",
              "      <td>NaN</td>\n",
              "      <td>NaN</td>\n",
              "      <td>112</td>\n",
              "      <td>3808</td>\n",
              "      <td>2085</td>\n",
              "      <td>1195</td>\n",
              "      <td>NaN</td>\n",
              "      <td>NaN</td>\n",
              "      <td>NaN</td>\n",
              "      <td>3290</td>\n",
              "      <td>6570</td>\n",
              "      <td>NaN</td>\n",
              "      <td>NaN</td>\n",
              "      <td>NaN</td>\n",
              "      <td>NaN</td>\n",
              "      <td>133</td>\n",
              "      <td>NaN</td>\n",
              "      <td>NaN</td>\n",
              "      <td>NaN</td>\n",
              "      <td>787</td>\n",
              "      <td>NaN</td>\n",
              "      <td>NaN</td>\n",
              "      <td>NaN</td>\n",
              "      <td>NaN</td>\n",
              "      <td>NaN</td>\n",
              "      <td>NaN</td>\n",
              "      <td>140</td>\n",
              "      <td>NaN</td>\n",
              "      <td>NaN</td>\n",
              "      <td>NaN</td>\n",
              "      <td>654</td>\n",
              "      <td>1540</td>\n",
              "      <td>1415</td>\n",
              "      <td>NaN</td>\n",
              "      <td>3</td>\n",
              "    </tr>\n",
              "    <tr>\n",
              "      <th>4</th>\n",
              "      <td>1991</td>\n",
              "      <td>5</td>\n",
              "      <td>650</td>\n",
              "      <td>NaN</td>\n",
              "      <td>20</td>\n",
              "      <td>NaN</td>\n",
              "      <td>146</td>\n",
              "      <td>3051</td>\n",
              "      <td>NaN</td>\n",
              "      <td>NaN</td>\n",
              "      <td>NaN</td>\n",
              "      <td>553</td>\n",
              "      <td>231</td>\n",
              "      <td>1449</td>\n",
              "      <td>82</td>\n",
              "      <td>931</td>\n",
              "      <td>335</td>\n",
              "      <td>27</td>\n",
              "      <td>NaN</td>\n",
              "      <td>NaN</td>\n",
              "      <td>NaN</td>\n",
              "      <td>NaN</td>\n",
              "      <td>NaN</td>\n",
              "      <td>147</td>\n",
              "      <td>3755</td>\n",
              "      <td>2185</td>\n",
              "      <td>723</td>\n",
              "      <td>NaN</td>\n",
              "      <td>NaN</td>\n",
              "      <td>NaN</td>\n",
              "      <td>3546</td>\n",
              "      <td>6454</td>\n",
              "      <td>NaN</td>\n",
              "      <td>NaN</td>\n",
              "      <td>NaN</td>\n",
              "      <td>NaN</td>\n",
              "      <td>163</td>\n",
              "      <td>NaN</td>\n",
              "      <td>NaN</td>\n",
              "      <td>NaN</td>\n",
              "      <td>845</td>\n",
              "      <td>NaN</td>\n",
              "      <td>NaN</td>\n",
              "      <td>NaN</td>\n",
              "      <td>NaN</td>\n",
              "      <td>NaN</td>\n",
              "      <td>NaN</td>\n",
              "      <td>78</td>\n",
              "      <td>NaN</td>\n",
              "      <td>NaN</td>\n",
              "      <td>NaN</td>\n",
              "      <td>670</td>\n",
              "      <td>1266</td>\n",
              "      <td>1449</td>\n",
              "      <td>NaN</td>\n",
              "      <td>3</td>\n",
              "    </tr>\n",
              "  </tbody>\n",
              "</table>\n",
              "</div>"
            ],
            "text/plain": [
              "   vano  mes  hom_doloso  ...  indicador_roubo_veic  registro_ocorrencias  fase\n",
              "0  1991    1         657  ...                  1174                   NaN     3\n",
              "1  1991    2         732  ...                  1097                   NaN     3\n",
              "2  1991    3         713  ...                  1265                   NaN     3\n",
              "3  1991    4         634  ...                  1415                   NaN     3\n",
              "4  1991    5         650  ...                  1449                   NaN     3\n",
              "\n",
              "[5 rows x 56 columns]"
            ]
          },
          "metadata": {
            "tags": []
          },
          "execution_count": 7
        }
      ]
    },
    {
      "cell_type": "markdown",
      "metadata": {
        "id": "7ZCJdg80wOsN",
        "colab_type": "text"
      },
      "source": [
        "Visualizando as 5 últimas entradas:"
      ]
    },
    {
      "cell_type": "code",
      "metadata": {
        "id": "3MDSR0qQDju8",
        "colab_type": "code",
        "colab": {
          "base_uri": "https://localhost:8080/",
          "height": 224
        },
        "outputId": "67425ea9-1c6b-4ee8-86bc-a4ff9c00ee2f"
      },
      "source": [
        "df_RJ.tail()"
      ],
      "execution_count": 8,
      "outputs": [
        {
          "output_type": "execute_result",
          "data": {
            "text/html": [
              "<div>\n",
              "<style scoped>\n",
              "    .dataframe tbody tr th:only-of-type {\n",
              "        vertical-align: middle;\n",
              "    }\n",
              "\n",
              "    .dataframe tbody tr th {\n",
              "        vertical-align: top;\n",
              "    }\n",
              "\n",
              "    .dataframe thead th {\n",
              "        text-align: right;\n",
              "    }\n",
              "</style>\n",
              "<table border=\"1\" class=\"dataframe\">\n",
              "  <thead>\n",
              "    <tr style=\"text-align: right;\">\n",
              "      <th></th>\n",
              "      <th>vano</th>\n",
              "      <th>mes</th>\n",
              "      <th>hom_doloso</th>\n",
              "      <th>lesao_corp_morte</th>\n",
              "      <th>latrocinio</th>\n",
              "      <th>hom_por_interv_policial</th>\n",
              "      <th>tentat_hom</th>\n",
              "      <th>lesao_corp_dolosa</th>\n",
              "      <th>estupro</th>\n",
              "      <th>hom_culposo</th>\n",
              "      <th>lesao_corp_culposa</th>\n",
              "      <th>roubo_comercio</th>\n",
              "      <th>roubo_residencia</th>\n",
              "      <th>roubo_veiculo</th>\n",
              "      <th>roubo_carga</th>\n",
              "      <th>roubo_transeunte</th>\n",
              "      <th>roubo_em_coletivo</th>\n",
              "      <th>roubo_banco</th>\n",
              "      <th>roubo_cx_eletronico</th>\n",
              "      <th>roubo_celular</th>\n",
              "      <th>roubo_conducao_saque</th>\n",
              "      <th>roubo_apos_saque</th>\n",
              "      <th>roubo_bicicleta</th>\n",
              "      <th>outros_roubos</th>\n",
              "      <th>total_roubos</th>\n",
              "      <th>furto_veiculos</th>\n",
              "      <th>furto_transeunte</th>\n",
              "      <th>furto_coletivo</th>\n",
              "      <th>furto_celular</th>\n",
              "      <th>furto_bicicleta</th>\n",
              "      <th>outros_furtos</th>\n",
              "      <th>total_furtos</th>\n",
              "      <th>sequestro</th>\n",
              "      <th>extorsao</th>\n",
              "      <th>sequestro_relampago</th>\n",
              "      <th>estelionato</th>\n",
              "      <th>apreensao_drogas</th>\n",
              "      <th>posse_drogas</th>\n",
              "      <th>trafico_drogas</th>\n",
              "      <th>apreensao_drogas_sem_autor</th>\n",
              "      <th>recuperacao_veiculos</th>\n",
              "      <th>apf</th>\n",
              "      <th>aaapai</th>\n",
              "      <th>cmp</th>\n",
              "      <th>cmba</th>\n",
              "      <th>ameaca</th>\n",
              "      <th>pessoas_desaparecidas</th>\n",
              "      <th>encontro_cadaver</th>\n",
              "      <th>encontro_ossada</th>\n",
              "      <th>pol_militares_mortos_serv</th>\n",
              "      <th>pol_civis_mortos_serv</th>\n",
              "      <th>indicador_letalidade</th>\n",
              "      <th>indicador_roubo_rua</th>\n",
              "      <th>indicador_roubo_veic</th>\n",
              "      <th>registro_ocorrencias</th>\n",
              "      <th>fase</th>\n",
              "    </tr>\n",
              "  </thead>\n",
              "  <tbody>\n",
              "    <tr>\n",
              "      <th>339</th>\n",
              "      <td>2019</td>\n",
              "      <td>4</td>\n",
              "      <td>360</td>\n",
              "      <td>1.0</td>\n",
              "      <td>11</td>\n",
              "      <td>124.0</td>\n",
              "      <td>466</td>\n",
              "      <td>5573</td>\n",
              "      <td>483.0</td>\n",
              "      <td>172.0</td>\n",
              "      <td>2182.0</td>\n",
              "      <td>502</td>\n",
              "      <td>124</td>\n",
              "      <td>3755</td>\n",
              "      <td>667</td>\n",
              "      <td>7031</td>\n",
              "      <td>1585</td>\n",
              "      <td>2</td>\n",
              "      <td>4.0</td>\n",
              "      <td>2424.0</td>\n",
              "      <td>10.0</td>\n",
              "      <td>82.0</td>\n",
              "      <td>23.0</td>\n",
              "      <td>2245</td>\n",
              "      <td>18454</td>\n",
              "      <td>1244</td>\n",
              "      <td>1519</td>\n",
              "      <td>607.0</td>\n",
              "      <td>1318.0</td>\n",
              "      <td>211.0</td>\n",
              "      <td>7633</td>\n",
              "      <td>12532</td>\n",
              "      <td>0.0</td>\n",
              "      <td>151.0</td>\n",
              "      <td>11.0</td>\n",
              "      <td>3260.0</td>\n",
              "      <td>1909</td>\n",
              "      <td>745.0</td>\n",
              "      <td>1021.0</td>\n",
              "      <td>187.0</td>\n",
              "      <td>2624</td>\n",
              "      <td>3128.0</td>\n",
              "      <td>497.0</td>\n",
              "      <td>1648.0</td>\n",
              "      <td>350.0</td>\n",
              "      <td>5310.0</td>\n",
              "      <td>408.0</td>\n",
              "      <td>22</td>\n",
              "      <td>3.0</td>\n",
              "      <td>1.0</td>\n",
              "      <td>0.0</td>\n",
              "      <td>496</td>\n",
              "      <td>11040</td>\n",
              "      <td>3755</td>\n",
              "      <td>67797.0</td>\n",
              "      <td>3</td>\n",
              "    </tr>\n",
              "    <tr>\n",
              "      <th>340</th>\n",
              "      <td>2019</td>\n",
              "      <td>5</td>\n",
              "      <td>345</td>\n",
              "      <td>2.0</td>\n",
              "      <td>15</td>\n",
              "      <td>172.0</td>\n",
              "      <td>478</td>\n",
              "      <td>4958</td>\n",
              "      <td>465.0</td>\n",
              "      <td>145.0</td>\n",
              "      <td>2304.0</td>\n",
              "      <td>514</td>\n",
              "      <td>93</td>\n",
              "      <td>3649</td>\n",
              "      <td>710</td>\n",
              "      <td>7332</td>\n",
              "      <td>1625</td>\n",
              "      <td>1</td>\n",
              "      <td>3.0</td>\n",
              "      <td>2427.0</td>\n",
              "      <td>9.0</td>\n",
              "      <td>87.0</td>\n",
              "      <td>7.0</td>\n",
              "      <td>2216</td>\n",
              "      <td>18673</td>\n",
              "      <td>1480</td>\n",
              "      <td>1475</td>\n",
              "      <td>715.0</td>\n",
              "      <td>1423.0</td>\n",
              "      <td>220.0</td>\n",
              "      <td>7711</td>\n",
              "      <td>13024</td>\n",
              "      <td>0.0</td>\n",
              "      <td>147.0</td>\n",
              "      <td>7.0</td>\n",
              "      <td>3498.0</td>\n",
              "      <td>2034</td>\n",
              "      <td>735.0</td>\n",
              "      <td>1133.0</td>\n",
              "      <td>199.0</td>\n",
              "      <td>2450</td>\n",
              "      <td>3169.0</td>\n",
              "      <td>527.0</td>\n",
              "      <td>1771.0</td>\n",
              "      <td>248.0</td>\n",
              "      <td>5068.0</td>\n",
              "      <td>390.0</td>\n",
              "      <td>20</td>\n",
              "      <td>1.0</td>\n",
              "      <td>0.0</td>\n",
              "      <td>0.0</td>\n",
              "      <td>534</td>\n",
              "      <td>11384</td>\n",
              "      <td>3649</td>\n",
              "      <td>68336.0</td>\n",
              "      <td>3</td>\n",
              "    </tr>\n",
              "    <tr>\n",
              "      <th>341</th>\n",
              "      <td>2019</td>\n",
              "      <td>6</td>\n",
              "      <td>332</td>\n",
              "      <td>3.0</td>\n",
              "      <td>8</td>\n",
              "      <td>153.0</td>\n",
              "      <td>436</td>\n",
              "      <td>4769</td>\n",
              "      <td>414.0</td>\n",
              "      <td>152.0</td>\n",
              "      <td>2481.0</td>\n",
              "      <td>382</td>\n",
              "      <td>85</td>\n",
              "      <td>3115</td>\n",
              "      <td>599</td>\n",
              "      <td>6077</td>\n",
              "      <td>1287</td>\n",
              "      <td>1</td>\n",
              "      <td>4.0</td>\n",
              "      <td>2187.0</td>\n",
              "      <td>19.0</td>\n",
              "      <td>83.0</td>\n",
              "      <td>9.0</td>\n",
              "      <td>1984</td>\n",
              "      <td>15832</td>\n",
              "      <td>1251</td>\n",
              "      <td>1443</td>\n",
              "      <td>630.0</td>\n",
              "      <td>1345.0</td>\n",
              "      <td>189.0</td>\n",
              "      <td>7224</td>\n",
              "      <td>12082</td>\n",
              "      <td>0.0</td>\n",
              "      <td>133.0</td>\n",
              "      <td>6.0</td>\n",
              "      <td>3029.0</td>\n",
              "      <td>1854</td>\n",
              "      <td>763.0</td>\n",
              "      <td>976.0</td>\n",
              "      <td>158.0</td>\n",
              "      <td>2041</td>\n",
              "      <td>2848.0</td>\n",
              "      <td>467.0</td>\n",
              "      <td>1585.0</td>\n",
              "      <td>233.0</td>\n",
              "      <td>4497.0</td>\n",
              "      <td>403.0</td>\n",
              "      <td>20</td>\n",
              "      <td>1.0</td>\n",
              "      <td>3.0</td>\n",
              "      <td>0.0</td>\n",
              "      <td>496</td>\n",
              "      <td>9551</td>\n",
              "      <td>3115</td>\n",
              "      <td>61202.0</td>\n",
              "      <td>3</td>\n",
              "    </tr>\n",
              "    <tr>\n",
              "      <th>342</th>\n",
              "      <td>2019</td>\n",
              "      <td>7</td>\n",
              "      <td>309</td>\n",
              "      <td>5.0</td>\n",
              "      <td>10</td>\n",
              "      <td>194.0</td>\n",
              "      <td>399</td>\n",
              "      <td>4740</td>\n",
              "      <td>402.0</td>\n",
              "      <td>140.0</td>\n",
              "      <td>2334.0</td>\n",
              "      <td>386</td>\n",
              "      <td>72</td>\n",
              "      <td>3198</td>\n",
              "      <td>691</td>\n",
              "      <td>6637</td>\n",
              "      <td>1208</td>\n",
              "      <td>1</td>\n",
              "      <td>0.0</td>\n",
              "      <td>2226.0</td>\n",
              "      <td>12.0</td>\n",
              "      <td>97.0</td>\n",
              "      <td>16.0</td>\n",
              "      <td>2110</td>\n",
              "      <td>16654</td>\n",
              "      <td>1353</td>\n",
              "      <td>1570</td>\n",
              "      <td>746.0</td>\n",
              "      <td>1391.0</td>\n",
              "      <td>230.0</td>\n",
              "      <td>7632</td>\n",
              "      <td>12922</td>\n",
              "      <td>0.0</td>\n",
              "      <td>135.0</td>\n",
              "      <td>12.0</td>\n",
              "      <td>3627.0</td>\n",
              "      <td>1861</td>\n",
              "      <td>709.0</td>\n",
              "      <td>996.0</td>\n",
              "      <td>187.0</td>\n",
              "      <td>2355</td>\n",
              "      <td>2907.0</td>\n",
              "      <td>490.0</td>\n",
              "      <td>1856.0</td>\n",
              "      <td>267.0</td>\n",
              "      <td>4678.0</td>\n",
              "      <td>400.0</td>\n",
              "      <td>32</td>\n",
              "      <td>7.0</td>\n",
              "      <td>0.0</td>\n",
              "      <td>0.0</td>\n",
              "      <td>518</td>\n",
              "      <td>10071</td>\n",
              "      <td>3198</td>\n",
              "      <td>65817.0</td>\n",
              "      <td>2</td>\n",
              "    </tr>\n",
              "    <tr>\n",
              "      <th>343</th>\n",
              "      <td>2019</td>\n",
              "      <td>8</td>\n",
              "      <td>318</td>\n",
              "      <td>1.0</td>\n",
              "      <td>6</td>\n",
              "      <td>170.0</td>\n",
              "      <td>457</td>\n",
              "      <td>4760</td>\n",
              "      <td>460.0</td>\n",
              "      <td>156.0</td>\n",
              "      <td>2437.0</td>\n",
              "      <td>433</td>\n",
              "      <td>103</td>\n",
              "      <td>3181</td>\n",
              "      <td>587</td>\n",
              "      <td>6452</td>\n",
              "      <td>1215</td>\n",
              "      <td>1</td>\n",
              "      <td>1.0</td>\n",
              "      <td>2245.0</td>\n",
              "      <td>9.0</td>\n",
              "      <td>98.0</td>\n",
              "      <td>17.0</td>\n",
              "      <td>1794</td>\n",
              "      <td>16136</td>\n",
              "      <td>1361</td>\n",
              "      <td>1568</td>\n",
              "      <td>674.0</td>\n",
              "      <td>1534.0</td>\n",
              "      <td>185.0</td>\n",
              "      <td>7280</td>\n",
              "      <td>12602</td>\n",
              "      <td>0.0</td>\n",
              "      <td>132.0</td>\n",
              "      <td>12.0</td>\n",
              "      <td>3546.0</td>\n",
              "      <td>1862</td>\n",
              "      <td>668.0</td>\n",
              "      <td>1067.0</td>\n",
              "      <td>171.0</td>\n",
              "      <td>2081</td>\n",
              "      <td>3114.0</td>\n",
              "      <td>476.0</td>\n",
              "      <td>2028.0</td>\n",
              "      <td>265.0</td>\n",
              "      <td>4662.0</td>\n",
              "      <td>367.0</td>\n",
              "      <td>27</td>\n",
              "      <td>8.0</td>\n",
              "      <td>2.0</td>\n",
              "      <td>0.0</td>\n",
              "      <td>495</td>\n",
              "      <td>9912</td>\n",
              "      <td>3181</td>\n",
              "      <td>65285.0</td>\n",
              "      <td>2</td>\n",
              "    </tr>\n",
              "  </tbody>\n",
              "</table>\n",
              "</div>"
            ],
            "text/plain": [
              "     vano  mes  hom_doloso  ...  indicador_roubo_veic  registro_ocorrencias  fase\n",
              "339  2019    4         360  ...                  3755               67797.0     3\n",
              "340  2019    5         345  ...                  3649               68336.0     3\n",
              "341  2019    6         332  ...                  3115               61202.0     3\n",
              "342  2019    7         309  ...                  3198               65817.0     2\n",
              "343  2019    8         318  ...                  3181               65285.0     2\n",
              "\n",
              "[5 rows x 56 columns]"
            ]
          },
          "metadata": {
            "tags": []
          },
          "execution_count": 8
        }
      ]
    },
    {
      "cell_type": "markdown",
      "metadata": {
        "id": "DyZqRkjEwXOe",
        "colab_type": "text"
      },
      "source": [
        "Um dos problemas mais comuns que podemos enfrentar na limpeza e exploração de dados é lidar com os valores ausentes. E, nesse caso não foi diferente!\n",
        "\n",
        "Antes de tomarmos qualquer decisão em relação aos dados ausentes, vamos verificar a porcentagem deles em relação à totalidade do dataset. "
      ]
    },
    {
      "cell_type": "markdown",
      "metadata": {
        "id": "fUsk4mN_LSoK",
        "colab_type": "text"
      },
      "source": [
        "###2.5. Porcentagem de valores ausentes das colunas###"
      ]
    },
    {
      "cell_type": "markdown",
      "metadata": {
        "id": "d-h5GVGM71Ul",
        "colab_type": "text"
      },
      "source": [
        "Usamos `DataFrame.isnull` para detectarmos os valores ausentes. Além disso, queremos saber quais variáveis possuem a maior quantidade de valores ausentes."
      ]
    },
    {
      "cell_type": "markdown",
      "metadata": {
        "id": "_TTa9dMX_vQU",
        "colab_type": "text"
      },
      "source": [
        "Verificando a porcentagem de valores ausentes nas variáveis:\n"
      ]
    },
    {
      "cell_type": "code",
      "metadata": {
        "id": "JnQEtC_IPrtE",
        "colab_type": "code",
        "colab": {
          "base_uri": "https://localhost:8080/",
          "height": 986
        },
        "outputId": "f2cc4654-a333-4fea-b837-3c2f8ea6751c"
      },
      "source": [
        "(df_RJ.isnull().sum() / df_RJ.shape[0]).sort_values(ascending=False)"
      ],
      "execution_count": 9,
      "outputs": [
        {
          "output_type": "execute_result",
          "data": {
            "text/plain": [
              "roubo_bicicleta               0.802326\n",
              "furto_bicicleta               0.802326\n",
              "apreensao_drogas_sem_autor    0.523256\n",
              "posse_drogas                  0.523256\n",
              "apf                           0.523256\n",
              "aaapai                        0.523256\n",
              "cmp                           0.523256\n",
              "trafico_drogas                0.523256\n",
              "cmba                          0.523256\n",
              "sequestro_relampago           0.418605\n",
              "furto_coletivo                0.418605\n",
              "extorsao                      0.418605\n",
              "furto_celular                 0.418605\n",
              "roubo_apos_saque              0.418605\n",
              "roubo_conducao_saque          0.418605\n",
              "roubo_cx_eletronico           0.418605\n",
              "estupro                       0.418605\n",
              "estelionato                   0.418605\n",
              "pol_civis_mortos_serv         0.418605\n",
              "pol_militares_mortos_serv     0.418605\n",
              "pessoas_desaparecidas         0.383721\n",
              "encontro_ossada               0.383721\n",
              "roubo_celular                 0.313953\n",
              "lesao_corp_culposa            0.279070\n",
              "ameaca                        0.279070\n",
              "sequestro                     0.279070\n",
              "lesao_corp_morte              0.279070\n",
              "registro_ocorrencias          0.279070\n",
              "hom_por_interv_policial       0.244186\n",
              "hom_culposo                   0.244186\n",
              "tentat_hom                    0.000000\n",
              "roubo_comercio                0.000000\n",
              "roubo_residencia              0.000000\n",
              "latrocinio                    0.000000\n",
              "lesao_corp_dolosa             0.000000\n",
              "hom_doloso                    0.000000\n",
              "roubo_transeunte              0.000000\n",
              "mes                           0.000000\n",
              "roubo_veiculo                 0.000000\n",
              "roubo_carga                   0.000000\n",
              "fase                          0.000000\n",
              "roubo_em_coletivo             0.000000\n",
              "roubo_banco                   0.000000\n",
              "outros_roubos                 0.000000\n",
              "total_roubos                  0.000000\n",
              "furto_veiculos                0.000000\n",
              "furto_transeunte              0.000000\n",
              "outros_furtos                 0.000000\n",
              "total_furtos                  0.000000\n",
              "apreensao_drogas              0.000000\n",
              "recuperacao_veiculos          0.000000\n",
              "encontro_cadaver              0.000000\n",
              "indicador_letalidade          0.000000\n",
              "indicador_roubo_rua           0.000000\n",
              "indicador_roubo_veic          0.000000\n",
              "vano                          0.000000\n",
              "dtype: float64"
            ]
          },
          "metadata": {
            "tags": []
          },
          "execution_count": 9
        }
      ]
    },
    {
      "cell_type": "markdown",
      "metadata": {
        "id": "9q1SwrDCAVKH",
        "colab_type": "text"
      },
      "source": [
        "Observamos que existem muitas variáveis que possuem uma quantidade expressiva de valores ausentes. Nesse momento, esses valores ausentes não são objeto da nossa análise e, por esse motivo, vamos usar as variáveis que não possuem valores ausentes."
      ]
    },
    {
      "cell_type": "markdown",
      "metadata": {
        "id": "G6dnsNYm-41g",
        "colab_type": "text"
      },
      "source": [
        "## 3. Informações Estatísticas da Violência no Rio de Janeiro##\n",
        "\n",
        "Como estamos lidando com uma grande quantidade de informações, se faz necessário torná-las mais condensadas para facilitar o nosso trabalho com o cojunto de dados. Nesse sentido, a estatística nos auxilia no processo de descrever e resumir esses dados. E isso é feito através da média, mediana, moda, desvio padrão, máximo e mínimo dos valores de uma determinada variável.\n",
        "\n",
        "\n",
        "\n",
        "\n"
      ]
    },
    {
      "cell_type": "markdown",
      "metadata": {
        "id": "h1O8NfA7Tj3A",
        "colab_type": "text"
      },
      "source": [
        "###3.1. Resumo estatístico do Dataframe ###"
      ]
    },
    {
      "cell_type": "markdown",
      "metadata": {
        "id": "tm4UhiqEHFCk",
        "colab_type": "text"
      },
      "source": [
        "O método `DataFrame.describe` gera informações estatísticas descritivas que incluem aquelas que resumem a tendência central, dispersão e forma da distribuição de um conjunto de dados."
      ]
    },
    {
      "cell_type": "markdown",
      "metadata": {
        "id": "q1Sh7XpeHIPC",
        "colab_type": "text"
      },
      "source": [
        "Mostrando um resumo estatístico do Dataframe:\n"
      ]
    },
    {
      "cell_type": "code",
      "metadata": {
        "id": "uqiQiqxXS5-u",
        "colab_type": "code",
        "colab": {
          "base_uri": "https://localhost:8080/",
          "height": 317
        },
        "outputId": "cd642417-4c97-42db-cf82-49660e8f1dbb"
      },
      "source": [
        "df_RJ.describe()"
      ],
      "execution_count": 10,
      "outputs": [
        {
          "output_type": "execute_result",
          "data": {
            "text/html": [
              "<div>\n",
              "<style scoped>\n",
              "    .dataframe tbody tr th:only-of-type {\n",
              "        vertical-align: middle;\n",
              "    }\n",
              "\n",
              "    .dataframe tbody tr th {\n",
              "        vertical-align: top;\n",
              "    }\n",
              "\n",
              "    .dataframe thead th {\n",
              "        text-align: right;\n",
              "    }\n",
              "</style>\n",
              "<table border=\"1\" class=\"dataframe\">\n",
              "  <thead>\n",
              "    <tr style=\"text-align: right;\">\n",
              "      <th></th>\n",
              "      <th>vano</th>\n",
              "      <th>mes</th>\n",
              "      <th>hom_doloso</th>\n",
              "      <th>lesao_corp_morte</th>\n",
              "      <th>latrocinio</th>\n",
              "      <th>hom_por_interv_policial</th>\n",
              "      <th>tentat_hom</th>\n",
              "      <th>lesao_corp_dolosa</th>\n",
              "      <th>estupro</th>\n",
              "      <th>hom_culposo</th>\n",
              "      <th>lesao_corp_culposa</th>\n",
              "      <th>roubo_comercio</th>\n",
              "      <th>roubo_residencia</th>\n",
              "      <th>roubo_veiculo</th>\n",
              "      <th>roubo_carga</th>\n",
              "      <th>roubo_transeunte</th>\n",
              "      <th>roubo_em_coletivo</th>\n",
              "      <th>roubo_banco</th>\n",
              "      <th>roubo_cx_eletronico</th>\n",
              "      <th>roubo_celular</th>\n",
              "      <th>roubo_conducao_saque</th>\n",
              "      <th>roubo_apos_saque</th>\n",
              "      <th>roubo_bicicleta</th>\n",
              "      <th>outros_roubos</th>\n",
              "      <th>total_roubos</th>\n",
              "      <th>furto_veiculos</th>\n",
              "      <th>furto_transeunte</th>\n",
              "      <th>furto_coletivo</th>\n",
              "      <th>furto_celular</th>\n",
              "      <th>furto_bicicleta</th>\n",
              "      <th>outros_furtos</th>\n",
              "      <th>total_furtos</th>\n",
              "      <th>sequestro</th>\n",
              "      <th>extorsao</th>\n",
              "      <th>sequestro_relampago</th>\n",
              "      <th>estelionato</th>\n",
              "      <th>apreensao_drogas</th>\n",
              "      <th>posse_drogas</th>\n",
              "      <th>trafico_drogas</th>\n",
              "      <th>apreensao_drogas_sem_autor</th>\n",
              "      <th>recuperacao_veiculos</th>\n",
              "      <th>apf</th>\n",
              "      <th>aaapai</th>\n",
              "      <th>cmp</th>\n",
              "      <th>cmba</th>\n",
              "      <th>ameaca</th>\n",
              "      <th>pessoas_desaparecidas</th>\n",
              "      <th>encontro_cadaver</th>\n",
              "      <th>encontro_ossada</th>\n",
              "      <th>pol_militares_mortos_serv</th>\n",
              "      <th>pol_civis_mortos_serv</th>\n",
              "      <th>indicador_letalidade</th>\n",
              "      <th>indicador_roubo_rua</th>\n",
              "      <th>indicador_roubo_veic</th>\n",
              "      <th>registro_ocorrencias</th>\n",
              "      <th>fase</th>\n",
              "    </tr>\n",
              "  </thead>\n",
              "  <tbody>\n",
              "    <tr>\n",
              "      <th>count</th>\n",
              "      <td>344.000000</td>\n",
              "      <td>344.000000</td>\n",
              "      <td>344.000000</td>\n",
              "      <td>248.000000</td>\n",
              "      <td>344.000000</td>\n",
              "      <td>260.00000</td>\n",
              "      <td>344.000000</td>\n",
              "      <td>344.000000</td>\n",
              "      <td>200.000000</td>\n",
              "      <td>260.000000</td>\n",
              "      <td>248.000000</td>\n",
              "      <td>344.000000</td>\n",
              "      <td>344.000000</td>\n",
              "      <td>344.000000</td>\n",
              "      <td>344.000000</td>\n",
              "      <td>344.000000</td>\n",
              "      <td>344.000000</td>\n",
              "      <td>344.000000</td>\n",
              "      <td>200.000000</td>\n",
              "      <td>236.000000</td>\n",
              "      <td>200.000000</td>\n",
              "      <td>200.000000</td>\n",
              "      <td>68.000000</td>\n",
              "      <td>344.000000</td>\n",
              "      <td>344.000000</td>\n",
              "      <td>344.000000</td>\n",
              "      <td>344.000000</td>\n",
              "      <td>200.000000</td>\n",
              "      <td>200.000000</td>\n",
              "      <td>68.000000</td>\n",
              "      <td>344.000000</td>\n",
              "      <td>344.000000</td>\n",
              "      <td>248.000000</td>\n",
              "      <td>200.000000</td>\n",
              "      <td>200.000000</td>\n",
              "      <td>200.000000</td>\n",
              "      <td>344.000000</td>\n",
              "      <td>164.000000</td>\n",
              "      <td>164.000000</td>\n",
              "      <td>164.000000</td>\n",
              "      <td>344.000000</td>\n",
              "      <td>164.000000</td>\n",
              "      <td>164.000000</td>\n",
              "      <td>164.000000</td>\n",
              "      <td>164.000000</td>\n",
              "      <td>248.000000</td>\n",
              "      <td>212.000000</td>\n",
              "      <td>344.000000</td>\n",
              "      <td>212.000000</td>\n",
              "      <td>200.000000</td>\n",
              "      <td>200.00000</td>\n",
              "      <td>344.000000</td>\n",
              "      <td>344.000000</td>\n",
              "      <td>344.000000</td>\n",
              "      <td>248.000000</td>\n",
              "      <td>344.000000</td>\n",
              "    </tr>\n",
              "    <tr>\n",
              "      <th>mean</th>\n",
              "      <td>2004.837209</td>\n",
              "      <td>6.453488</td>\n",
              "      <td>504.555233</td>\n",
              "      <td>4.334677</td>\n",
              "      <td>15.668605</td>\n",
              "      <td>71.90000</td>\n",
              "      <td>318.267442</td>\n",
              "      <td>5492.799419</td>\n",
              "      <td>369.945000</td>\n",
              "      <td>212.119231</td>\n",
              "      <td>3410.762097</td>\n",
              "      <td>455.005814</td>\n",
              "      <td>133.284884</td>\n",
              "      <td>2448.697674</td>\n",
              "      <td>340.322674</td>\n",
              "      <td>3418.520349</td>\n",
              "      <td>659.002907</td>\n",
              "      <td>9.375000</td>\n",
              "      <td>3.550000</td>\n",
              "      <td>957.974576</td>\n",
              "      <td>11.320000</td>\n",
              "      <td>145.665000</td>\n",
              "      <td>10.808824</td>\n",
              "      <td>1211.223837</td>\n",
              "      <td>9428.119186</td>\n",
              "      <td>1674.671512</td>\n",
              "      <td>1518.921512</td>\n",
              "      <td>650.230000</td>\n",
              "      <td>1449.175000</td>\n",
              "      <td>124.808824</td>\n",
              "      <td>5994.328488</td>\n",
              "      <td>10433.177326</td>\n",
              "      <td>0.665323</td>\n",
              "      <td>133.265000</td>\n",
              "      <td>7.755000</td>\n",
              "      <td>2231.860000</td>\n",
              "      <td>1071.930233</td>\n",
              "      <td>609.237805</td>\n",
              "      <td>759.146341</td>\n",
              "      <td>186.146341</td>\n",
              "      <td>1772.238372</td>\n",
              "      <td>2319.585366</td>\n",
              "      <td>568.628049</td>\n",
              "      <td>1255.512195</td>\n",
              "      <td>83.042683</td>\n",
              "      <td>5530.326613</td>\n",
              "      <td>435.132075</td>\n",
              "      <td>66.261628</td>\n",
              "      <td>3.301887</td>\n",
              "      <td>2.085000</td>\n",
              "      <td>0.34000</td>\n",
              "      <td>577.691860</td>\n",
              "      <td>4734.738372</td>\n",
              "      <td>2448.697674</td>\n",
              "      <td>53794.161290</td>\n",
              "      <td>2.994186</td>\n",
              "    </tr>\n",
              "    <tr>\n",
              "      <th>std</th>\n",
              "      <td>8.289036</td>\n",
              "      <td>3.447759</td>\n",
              "      <td>113.774481</td>\n",
              "      <td>2.755357</td>\n",
              "      <td>5.861427</td>\n",
              "      <td>36.48882</td>\n",
              "      <td>127.606645</td>\n",
              "      <td>1514.220579</td>\n",
              "      <td>94.392434</td>\n",
              "      <td>54.234700</td>\n",
              "      <td>776.156561</td>\n",
              "      <td>119.765076</td>\n",
              "      <td>44.317963</td>\n",
              "      <td>789.689559</td>\n",
              "      <td>223.855243</td>\n",
              "      <td>2459.017549</td>\n",
              "      <td>297.622342</td>\n",
              "      <td>10.564894</td>\n",
              "      <td>2.634808</td>\n",
              "      <td>624.309034</td>\n",
              "      <td>6.404113</td>\n",
              "      <td>55.392367</td>\n",
              "      <td>7.767628</td>\n",
              "      <td>800.576723</td>\n",
              "      <td>4578.013053</td>\n",
              "      <td>294.852020</td>\n",
              "      <td>971.853102</td>\n",
              "      <td>268.836273</td>\n",
              "      <td>368.638776</td>\n",
              "      <td>80.247427</td>\n",
              "      <td>1964.767779</td>\n",
              "      <td>3696.725756</td>\n",
              "      <td>0.959128</td>\n",
              "      <td>43.303821</td>\n",
              "      <td>5.089646</td>\n",
              "      <td>772.093064</td>\n",
              "      <td>643.381991</td>\n",
              "      <td>246.307700</td>\n",
              "      <td>312.871487</td>\n",
              "      <td>36.221243</td>\n",
              "      <td>656.761843</td>\n",
              "      <td>650.520866</td>\n",
              "      <td>248.040620</td>\n",
              "      <td>357.035450</td>\n",
              "      <td>62.951374</td>\n",
              "      <td>1100.752625</td>\n",
              "      <td>65.353516</td>\n",
              "      <td>34.464519</td>\n",
              "      <td>2.192922</td>\n",
              "      <td>1.761616</td>\n",
              "      <td>0.63752</td>\n",
              "      <td>104.973929</td>\n",
              "      <td>3204.054864</td>\n",
              "      <td>789.689559</td>\n",
              "      <td>11039.051992</td>\n",
              "      <td>0.076138</td>\n",
              "    </tr>\n",
              "    <tr>\n",
              "      <th>min</th>\n",
              "      <td>1991.000000</td>\n",
              "      <td>1.000000</td>\n",
              "      <td>272.000000</td>\n",
              "      <td>0.000000</td>\n",
              "      <td>2.000000</td>\n",
              "      <td>10.00000</td>\n",
              "      <td>122.000000</td>\n",
              "      <td>2350.000000</td>\n",
              "      <td>188.000000</td>\n",
              "      <td>111.000000</td>\n",
              "      <td>848.000000</td>\n",
              "      <td>243.000000</td>\n",
              "      <td>49.000000</td>\n",
              "      <td>1097.000000</td>\n",
              "      <td>59.000000</td>\n",
              "      <td>688.000000</td>\n",
              "      <td>281.000000</td>\n",
              "      <td>0.000000</td>\n",
              "      <td>0.000000</td>\n",
              "      <td>0.000000</td>\n",
              "      <td>1.000000</td>\n",
              "      <td>11.000000</td>\n",
              "      <td>0.000000</td>\n",
              "      <td>81.000000</td>\n",
              "      <td>3261.000000</td>\n",
              "      <td>1159.000000</td>\n",
              "      <td>322.000000</td>\n",
              "      <td>23.000000</td>\n",
              "      <td>484.000000</td>\n",
              "      <td>0.000000</td>\n",
              "      <td>2322.000000</td>\n",
              "      <td>4691.000000</td>\n",
              "      <td>0.000000</td>\n",
              "      <td>23.000000</td>\n",
              "      <td>0.000000</td>\n",
              "      <td>717.000000</td>\n",
              "      <td>80.000000</td>\n",
              "      <td>248.000000</td>\n",
              "      <td>262.000000</td>\n",
              "      <td>114.000000</td>\n",
              "      <td>729.000000</td>\n",
              "      <td>1173.000000</td>\n",
              "      <td>225.000000</td>\n",
              "      <td>628.000000</td>\n",
              "      <td>21.000000</td>\n",
              "      <td>1409.000000</td>\n",
              "      <td>236.000000</td>\n",
              "      <td>0.000000</td>\n",
              "      <td>0.000000</td>\n",
              "      <td>0.000000</td>\n",
              "      <td>0.00000</td>\n",
              "      <td>334.000000</td>\n",
              "      <td>1086.000000</td>\n",
              "      <td>1097.000000</td>\n",
              "      <td>30621.000000</td>\n",
              "      <td>2.000000</td>\n",
              "    </tr>\n",
              "    <tr>\n",
              "      <th>25%</th>\n",
              "      <td>1998.000000</td>\n",
              "      <td>3.000000</td>\n",
              "      <td>413.750000</td>\n",
              "      <td>2.000000</td>\n",
              "      <td>11.000000</td>\n",
              "      <td>41.75000</td>\n",
              "      <td>200.000000</td>\n",
              "      <td>4067.000000</td>\n",
              "      <td>282.000000</td>\n",
              "      <td>176.000000</td>\n",
              "      <td>3040.000000</td>\n",
              "      <td>365.750000</td>\n",
              "      <td>103.750000</td>\n",
              "      <td>1889.750000</td>\n",
              "      <td>208.250000</td>\n",
              "      <td>1053.000000</td>\n",
              "      <td>430.750000</td>\n",
              "      <td>2.000000</td>\n",
              "      <td>2.000000</td>\n",
              "      <td>549.750000</td>\n",
              "      <td>6.000000</td>\n",
              "      <td>106.000000</td>\n",
              "      <td>2.250000</td>\n",
              "      <td>811.750000</td>\n",
              "      <td>5107.750000</td>\n",
              "      <td>1430.500000</td>\n",
              "      <td>732.000000</td>\n",
              "      <td>501.000000</td>\n",
              "      <td>1297.000000</td>\n",
              "      <td>3.750000</td>\n",
              "      <td>3978.000000</td>\n",
              "      <td>6700.250000</td>\n",
              "      <td>0.000000</td>\n",
              "      <td>109.750000</td>\n",
              "      <td>4.750000</td>\n",
              "      <td>1654.500000</td>\n",
              "      <td>714.500000</td>\n",
              "      <td>360.500000</td>\n",
              "      <td>426.000000</td>\n",
              "      <td>160.000000</td>\n",
              "      <td>1276.750000</td>\n",
              "      <td>1681.000000</td>\n",
              "      <td>332.500000</td>\n",
              "      <td>950.500000</td>\n",
              "      <td>46.000000</td>\n",
              "      <td>4868.500000</td>\n",
              "      <td>390.000000</td>\n",
              "      <td>42.000000</td>\n",
              "      <td>2.000000</td>\n",
              "      <td>1.000000</td>\n",
              "      <td>0.00000</td>\n",
              "      <td>500.000000</td>\n",
              "      <td>1557.000000</td>\n",
              "      <td>1889.750000</td>\n",
              "      <td>45374.500000</td>\n",
              "      <td>3.000000</td>\n",
              "    </tr>\n",
              "    <tr>\n",
              "      <th>50%</th>\n",
              "      <td>2005.000000</td>\n",
              "      <td>6.000000</td>\n",
              "      <td>507.000000</td>\n",
              "      <td>4.000000</td>\n",
              "      <td>15.000000</td>\n",
              "      <td>70.00000</td>\n",
              "      <td>318.500000</td>\n",
              "      <td>5830.500000</td>\n",
              "      <td>384.000000</td>\n",
              "      <td>203.000000</td>\n",
              "      <td>3372.000000</td>\n",
              "      <td>433.500000</td>\n",
              "      <td>125.000000</td>\n",
              "      <td>2322.000000</td>\n",
              "      <td>285.500000</td>\n",
              "      <td>2788.500000</td>\n",
              "      <td>592.000000</td>\n",
              "      <td>4.500000</td>\n",
              "      <td>3.000000</td>\n",
              "      <td>717.500000</td>\n",
              "      <td>10.000000</td>\n",
              "      <td>149.500000</td>\n",
              "      <td>13.000000</td>\n",
              "      <td>1154.000000</td>\n",
              "      <td>9243.500000</td>\n",
              "      <td>1637.500000</td>\n",
              "      <td>1076.500000</td>\n",
              "      <td>717.500000</td>\n",
              "      <td>1492.500000</td>\n",
              "      <td>158.000000</td>\n",
              "      <td>6559.000000</td>\n",
              "      <td>10448.500000</td>\n",
              "      <td>0.000000</td>\n",
              "      <td>132.500000</td>\n",
              "      <td>7.000000</td>\n",
              "      <td>2170.500000</td>\n",
              "      <td>979.500000</td>\n",
              "      <td>623.000000</td>\n",
              "      <td>815.000000</td>\n",
              "      <td>184.000000</td>\n",
              "      <td>1755.000000</td>\n",
              "      <td>2424.000000</td>\n",
              "      <td>530.000000</td>\n",
              "      <td>1259.000000</td>\n",
              "      <td>58.000000</td>\n",
              "      <td>5455.000000</td>\n",
              "      <td>427.000000</td>\n",
              "      <td>60.500000</td>\n",
              "      <td>3.000000</td>\n",
              "      <td>2.000000</td>\n",
              "      <td>0.00000</td>\n",
              "      <td>590.000000</td>\n",
              "      <td>4190.000000</td>\n",
              "      <td>2322.000000</td>\n",
              "      <td>54926.500000</td>\n",
              "      <td>3.000000</td>\n",
              "    </tr>\n",
              "    <tr>\n",
              "      <th>75%</th>\n",
              "      <td>2012.000000</td>\n",
              "      <td>9.000000</td>\n",
              "      <td>577.250000</td>\n",
              "      <td>6.000000</td>\n",
              "      <td>19.000000</td>\n",
              "      <td>96.25000</td>\n",
              "      <td>398.250000</td>\n",
              "      <td>6582.500000</td>\n",
              "      <td>441.250000</td>\n",
              "      <td>236.250000</td>\n",
              "      <td>3733.500000</td>\n",
              "      <td>536.250000</td>\n",
              "      <td>151.250000</td>\n",
              "      <td>2778.000000</td>\n",
              "      <td>401.250000</td>\n",
              "      <td>5385.250000</td>\n",
              "      <td>784.000000</td>\n",
              "      <td>14.000000</td>\n",
              "      <td>5.000000</td>\n",
              "      <td>1306.750000</td>\n",
              "      <td>15.000000</td>\n",
              "      <td>180.500000</td>\n",
              "      <td>17.000000</td>\n",
              "      <td>1635.000000</td>\n",
              "      <td>11590.500000</td>\n",
              "      <td>1833.250000</td>\n",
              "      <td>2334.250000</td>\n",
              "      <td>860.000000</td>\n",
              "      <td>1731.250000</td>\n",
              "      <td>181.500000</td>\n",
              "      <td>7601.500000</td>\n",
              "      <td>13877.500000</td>\n",
              "      <td>1.000000</td>\n",
              "      <td>152.250000</td>\n",
              "      <td>11.000000</td>\n",
              "      <td>2880.500000</td>\n",
              "      <td>1546.000000</td>\n",
              "      <td>763.500000</td>\n",
              "      <td>1045.250000</td>\n",
              "      <td>208.000000</td>\n",
              "      <td>2202.000000</td>\n",
              "      <td>2905.500000</td>\n",
              "      <td>793.500000</td>\n",
              "      <td>1515.250000</td>\n",
              "      <td>93.000000</td>\n",
              "      <td>6261.750000</td>\n",
              "      <td>481.500000</td>\n",
              "      <td>87.000000</td>\n",
              "      <td>4.000000</td>\n",
              "      <td>3.000000</td>\n",
              "      <td>1.00000</td>\n",
              "      <td>649.000000</td>\n",
              "      <td>6872.750000</td>\n",
              "      <td>2778.000000</td>\n",
              "      <td>63292.500000</td>\n",
              "      <td>3.000000</td>\n",
              "    </tr>\n",
              "    <tr>\n",
              "      <th>max</th>\n",
              "      <td>2019.000000</td>\n",
              "      <td>12.000000</td>\n",
              "      <td>831.000000</td>\n",
              "      <td>21.000000</td>\n",
              "      <td>36.000000</td>\n",
              "      <td>194.00000</td>\n",
              "      <td>645.000000</td>\n",
              "      <td>9050.000000</td>\n",
              "      <td>561.000000</td>\n",
              "      <td>449.000000</td>\n",
              "      <td>6653.000000</td>\n",
              "      <td>914.000000</td>\n",
              "      <td>300.000000</td>\n",
              "      <td>5358.000000</td>\n",
              "      <td>1329.000000</td>\n",
              "      <td>9669.000000</td>\n",
              "      <td>1628.000000</td>\n",
              "      <td>54.000000</td>\n",
              "      <td>12.000000</td>\n",
              "      <td>2626.000000</td>\n",
              "      <td>37.000000</td>\n",
              "      <td>283.000000</td>\n",
              "      <td>26.000000</td>\n",
              "      <td>3661.000000</td>\n",
              "      <td>23203.000000</td>\n",
              "      <td>2630.000000</td>\n",
              "      <td>5368.000000</td>\n",
              "      <td>1036.000000</td>\n",
              "      <td>2215.000000</td>\n",
              "      <td>243.000000</td>\n",
              "      <td>9880.000000</td>\n",
              "      <td>18003.000000</td>\n",
              "      <td>5.000000</td>\n",
              "      <td>271.000000</td>\n",
              "      <td>31.000000</td>\n",
              "      <td>3627.000000</td>\n",
              "      <td>2543.000000</td>\n",
              "      <td>1160.000000</td>\n",
              "      <td>1282.000000</td>\n",
              "      <td>289.000000</td>\n",
              "      <td>3695.000000</td>\n",
              "      <td>3425.000000</td>\n",
              "      <td>1114.000000</td>\n",
              "      <td>2314.000000</td>\n",
              "      <td>350.000000</td>\n",
              "      <td>9034.000000</td>\n",
              "      <td>628.000000</td>\n",
              "      <td>217.000000</td>\n",
              "      <td>13.000000</td>\n",
              "      <td>10.000000</td>\n",
              "      <td>3.00000</td>\n",
              "      <td>848.000000</td>\n",
              "      <td>13833.000000</td>\n",
              "      <td>5358.000000</td>\n",
              "      <td>75403.000000</td>\n",
              "      <td>3.000000</td>\n",
              "    </tr>\n",
              "  </tbody>\n",
              "</table>\n",
              "</div>"
            ],
            "text/plain": [
              "              vano         mes  ...  registro_ocorrencias        fase\n",
              "count   344.000000  344.000000  ...            248.000000  344.000000\n",
              "mean   2004.837209    6.453488  ...          53794.161290    2.994186\n",
              "std       8.289036    3.447759  ...          11039.051992    0.076138\n",
              "min    1991.000000    1.000000  ...          30621.000000    2.000000\n",
              "25%    1998.000000    3.000000  ...          45374.500000    3.000000\n",
              "50%    2005.000000    6.000000  ...          54926.500000    3.000000\n",
              "75%    2012.000000    9.000000  ...          63292.500000    3.000000\n",
              "max    2019.000000   12.000000  ...          75403.000000    3.000000\n",
              "\n",
              "[8 rows x 56 columns]"
            ]
          },
          "metadata": {
            "tags": []
          },
          "execution_count": 10
        }
      ]
    },
    {
      "cell_type": "markdown",
      "metadata": {
        "id": "hZSx7DTUolZv",
        "colab_type": "text"
      },
      "source": [
        "###3.2. Crimes contra o patrimômio###"
      ]
    },
    {
      "cell_type": "markdown",
      "metadata": {
        "id": "sU8sC-h2Oe0O",
        "colab_type": "text"
      },
      "source": [
        "Os crimes contra o patrimônio - tais como roubo, furto e estelionato - são aqueles que atentam diretamente contra o patrimônio de uma pessoa ou organização. Eles constituem a maioria dos crimes cometidos no Brasil. \n",
        "\n",
        "Os dados sobre roubo, furto e recuperação de veículos permitem uma análise com o objetivo de obter informações que ajudem no combate desse tipo de crime."
      ]
    },
    {
      "cell_type": "markdown",
      "metadata": {
        "id": "wWIRHP-KcOVp",
        "colab_type": "text"
      },
      "source": [
        "Visualizando a média de roubos, furtos e recuperação de veículos no Rio de Janeiro:"
      ]
    },
    {
      "cell_type": "code",
      "metadata": {
        "id": "WZsnKgL8S6i5",
        "colab_type": "code",
        "colab": {
          "base_uri": "https://localhost:8080/",
          "height": 68
        },
        "outputId": "acc8d884-af30-4d27-cec6-7c0968657c84"
      },
      "source": [
        "print('mean_roubo_veiculo =', df_RJ.roubo_veiculo.mean())\n",
        "print('mean_furto_veiculos =', df_RJ.furto_veiculos.mean())\n",
        "print('mean_recuperacao_veiculos =', df_RJ.recuperacao_veiculos.mean())"
      ],
      "execution_count": 11,
      "outputs": [
        {
          "output_type": "stream",
          "text": [
            "mean_roubo_veiculo = 2448.6976744186045\n",
            "mean_furto_veiculos = 1674.671511627907\n",
            "mean_recuperacao_veiculos = 1772.2383720930231\n"
          ],
          "name": "stdout"
        }
      ]
    },
    {
      "cell_type": "markdown",
      "metadata": {
        "id": "NLKU9Lnk3Fvh",
        "colab_type": "text"
      },
      "source": [
        "Acima, podemos visualizar que a média de roubo de veículos é a maior, seguida de furto e recuperação de veículos."
      ]
    },
    {
      "cell_type": "markdown",
      "metadata": {
        "id": "zFF2U0DHyCCx",
        "colab_type": "text"
      },
      "source": [
        "Calculando a porcentagem da média de roubo em relação a média de furto:"
      ]
    },
    {
      "cell_type": "code",
      "metadata": {
        "id": "EzbtZJtktHvY",
        "colab_type": "code",
        "colab": {
          "base_uri": "https://localhost:8080/",
          "height": 34
        },
        "outputId": "654e609e-bea7-4e00-d038-f942904092ef"
      },
      "source": [
        "pct_1 = df_RJ.roubo_veiculo.mean() / df_RJ.furto_veiculos.mean()\n",
        "percentage_roubo_vs_furto = round(pct_1*100-100,2)\n",
        "print('A média de carros roubados é {}% maior que a média de carros furtados.'.format(percentage_roubo_vs_furto))"
      ],
      "execution_count": 12,
      "outputs": [
        {
          "output_type": "stream",
          "text": [
            "A média de carros roubados é 46.22% maior que a média de carros furtados.\n"
          ],
          "name": "stdout"
        }
      ]
    },
    {
      "cell_type": "markdown",
      "metadata": {
        "id": "nsG4IxI5y0sG",
        "colab_type": "text"
      },
      "source": [
        "Através desse cálculo, constatamos que a média de roubos é 46% maior que a média de furtos. Uma vez que roubo configura num crime mais grave que furto por envolver ameaça ou violência, verificamos que o uso da violência é muito frequente nesses tipos de crimes.  "
      ]
    },
    {
      "cell_type": "markdown",
      "metadata": {
        "id": "ApKUWELFsI-z",
        "colab_type": "text"
      },
      "source": [
        "Calculando a porcentagem de carros recuperados:"
      ]
    },
    {
      "cell_type": "code",
      "metadata": {
        "id": "zCACK13_S7lW",
        "colab_type": "code",
        "colab": {
          "base_uri": "https://localhost:8080/",
          "height": 34
        },
        "outputId": "09ab4443-eaa5-43dd-8c74-5db5e22dfb73"
      },
      "source": [
        "pct_2 = df_RJ.recuperacao_veiculos.mean() / (df_RJ.furto_veiculos.mean() + df_RJ.roubo_veiculo.mean())\n",
        "percentage_carros_recuperados = round(pct_2*100,2)\n",
        "print('A porcentagem de carros recuperados é igual a {}%'.format(percentage_carros_recuperados))"
      ],
      "execution_count": 13,
      "outputs": [
        {
          "output_type": "stream",
          "text": [
            "A porcentagem de carros recuperados é igual a 42.98%\n"
          ],
          "name": "stdout"
        }
      ]
    },
    {
      "cell_type": "markdown",
      "metadata": {
        "id": "567E4iMa6Pgj",
        "colab_type": "text"
      },
      "source": [
        "Acima, verificamos que cerca de 43% dos carros que são furtados ou roubados são recuperados por mês."
      ]
    },
    {
      "cell_type": "markdown",
      "metadata": {
        "id": "TRmWXWgSpnKL",
        "colab_type": "text"
      },
      "source": [
        "###3.3. Crimes contra a vida###"
      ]
    },
    {
      "cell_type": "markdown",
      "metadata": {
        "id": "n42SbBpf78r5",
        "colab_type": "text"
      },
      "source": [
        "Os crimes contra a vida podem ser classificados em: homicídio; infanticídio; aborto; e indução, ajuda ou instigação ao suicídio. Esses crimes estão entre os que possuem as penas mais altas.\n",
        "\n",
        "A taxa de homicídios do Rio de Janeiro é outro indicador importante da violência no estado. Nesta etapa, vamos analisar o crime de homicídio doloso. Iniciamos as análises, com a visualização dos valores máximos e mínimos. Em seguida, verificamos cada uma das entradas relacionadas aos valores. E, finalizamos com a visualização dos gráficos desse crime. "
      ]
    },
    {
      "cell_type": "markdown",
      "metadata": {
        "id": "lV2E9GUvBzdu",
        "colab_type": "text"
      },
      "source": [
        "As funções `DataFrame.columns.max()` e `DataFrame.columns.min()` retornam, respectivamente, o valor máximo e mínimo das  colunas solicitadas.\n"
      ]
    },
    {
      "cell_type": "markdown",
      "metadata": {
        "id": "tGm68haYERqh",
        "colab_type": "text"
      },
      "source": [
        "Verificando o valor máximo e o valor mínimo da variável `hom_doloso`:"
      ]
    },
    {
      "cell_type": "code",
      "metadata": {
        "id": "51S6ZQHOqLd-",
        "colab_type": "code",
        "colab": {
          "base_uri": "https://localhost:8080/",
          "height": 51
        },
        "outputId": "2180437a-2844-4856-a5ed-e154634aff6e"
      },
      "source": [
        "print('Valor máximo =', df_RJ.hom_doloso.max())\n",
        "print('Valor mínimo =', df_RJ.hom_doloso.min())"
      ],
      "execution_count": 14,
      "outputs": [
        {
          "output_type": "stream",
          "text": [
            "Valor máximo = 831\n",
            "Valor mínimo = 272\n"
          ],
          "name": "stdout"
        }
      ]
    },
    {
      "cell_type": "markdown",
      "metadata": {
        "id": "iMyVaaotGCet",
        "colab_type": "text"
      },
      "source": [
        "Visualizando as entradas de valor máximo e de valor mínimo, respectivamente:"
      ]
    },
    {
      "cell_type": "code",
      "metadata": {
        "id": "lju9ZLi_FPn_",
        "colab_type": "code",
        "colab": {
          "base_uri": "https://localhost:8080/",
          "height": 100
        },
        "outputId": "731e3284-d59b-436c-a104-a714ecbeb0a3"
      },
      "source": [
        "df_RJ[df_RJ.hom_doloso == 831]"
      ],
      "execution_count": 15,
      "outputs": [
        {
          "output_type": "execute_result",
          "data": {
            "text/html": [
              "<div>\n",
              "<style scoped>\n",
              "    .dataframe tbody tr th:only-of-type {\n",
              "        vertical-align: middle;\n",
              "    }\n",
              "\n",
              "    .dataframe tbody tr th {\n",
              "        vertical-align: top;\n",
              "    }\n",
              "\n",
              "    .dataframe thead th {\n",
              "        text-align: right;\n",
              "    }\n",
              "</style>\n",
              "<table border=\"1\" class=\"dataframe\">\n",
              "  <thead>\n",
              "    <tr style=\"text-align: right;\">\n",
              "      <th></th>\n",
              "      <th>vano</th>\n",
              "      <th>mes</th>\n",
              "      <th>hom_doloso</th>\n",
              "      <th>lesao_corp_morte</th>\n",
              "      <th>latrocinio</th>\n",
              "      <th>hom_por_interv_policial</th>\n",
              "      <th>tentat_hom</th>\n",
              "      <th>lesao_corp_dolosa</th>\n",
              "      <th>estupro</th>\n",
              "      <th>hom_culposo</th>\n",
              "      <th>lesao_corp_culposa</th>\n",
              "      <th>roubo_comercio</th>\n",
              "      <th>roubo_residencia</th>\n",
              "      <th>roubo_veiculo</th>\n",
              "      <th>roubo_carga</th>\n",
              "      <th>roubo_transeunte</th>\n",
              "      <th>roubo_em_coletivo</th>\n",
              "      <th>roubo_banco</th>\n",
              "      <th>roubo_cx_eletronico</th>\n",
              "      <th>roubo_celular</th>\n",
              "      <th>roubo_conducao_saque</th>\n",
              "      <th>roubo_apos_saque</th>\n",
              "      <th>roubo_bicicleta</th>\n",
              "      <th>outros_roubos</th>\n",
              "      <th>total_roubos</th>\n",
              "      <th>furto_veiculos</th>\n",
              "      <th>furto_transeunte</th>\n",
              "      <th>furto_coletivo</th>\n",
              "      <th>furto_celular</th>\n",
              "      <th>furto_bicicleta</th>\n",
              "      <th>outros_furtos</th>\n",
              "      <th>total_furtos</th>\n",
              "      <th>sequestro</th>\n",
              "      <th>extorsao</th>\n",
              "      <th>sequestro_relampago</th>\n",
              "      <th>estelionato</th>\n",
              "      <th>apreensao_drogas</th>\n",
              "      <th>posse_drogas</th>\n",
              "      <th>trafico_drogas</th>\n",
              "      <th>apreensao_drogas_sem_autor</th>\n",
              "      <th>recuperacao_veiculos</th>\n",
              "      <th>apf</th>\n",
              "      <th>aaapai</th>\n",
              "      <th>cmp</th>\n",
              "      <th>cmba</th>\n",
              "      <th>ameaca</th>\n",
              "      <th>pessoas_desaparecidas</th>\n",
              "      <th>encontro_cadaver</th>\n",
              "      <th>encontro_ossada</th>\n",
              "      <th>pol_militares_mortos_serv</th>\n",
              "      <th>pol_civis_mortos_serv</th>\n",
              "      <th>indicador_letalidade</th>\n",
              "      <th>indicador_roubo_rua</th>\n",
              "      <th>indicador_roubo_veic</th>\n",
              "      <th>registro_ocorrencias</th>\n",
              "      <th>fase</th>\n",
              "    </tr>\n",
              "  </thead>\n",
              "  <tbody>\n",
              "    <tr>\n",
              "      <th>48</th>\n",
              "      <td>1995</td>\n",
              "      <td>1</td>\n",
              "      <td>831</td>\n",
              "      <td>NaN</td>\n",
              "      <td>17</td>\n",
              "      <td>NaN</td>\n",
              "      <td>166</td>\n",
              "      <td>3626</td>\n",
              "      <td>NaN</td>\n",
              "      <td>NaN</td>\n",
              "      <td>NaN</td>\n",
              "      <td>323</td>\n",
              "      <td>174</td>\n",
              "      <td>2060</td>\n",
              "      <td>188</td>\n",
              "      <td>1056</td>\n",
              "      <td>377</td>\n",
              "      <td>38</td>\n",
              "      <td>NaN</td>\n",
              "      <td>NaN</td>\n",
              "      <td>NaN</td>\n",
              "      <td>NaN</td>\n",
              "      <td>NaN</td>\n",
              "      <td>134</td>\n",
              "      <td>4350</td>\n",
              "      <td>1924</td>\n",
              "      <td>520</td>\n",
              "      <td>NaN</td>\n",
              "      <td>NaN</td>\n",
              "      <td>NaN</td>\n",
              "      <td>2941</td>\n",
              "      <td>5385</td>\n",
              "      <td>NaN</td>\n",
              "      <td>NaN</td>\n",
              "      <td>NaN</td>\n",
              "      <td>NaN</td>\n",
              "      <td>147</td>\n",
              "      <td>NaN</td>\n",
              "      <td>NaN</td>\n",
              "      <td>NaN</td>\n",
              "      <td>1435</td>\n",
              "      <td>NaN</td>\n",
              "      <td>NaN</td>\n",
              "      <td>NaN</td>\n",
              "      <td>NaN</td>\n",
              "      <td>NaN</td>\n",
              "      <td>NaN</td>\n",
              "      <td>98</td>\n",
              "      <td>NaN</td>\n",
              "      <td>NaN</td>\n",
              "      <td>NaN</td>\n",
              "      <td>848</td>\n",
              "      <td>1433</td>\n",
              "      <td>2060</td>\n",
              "      <td>NaN</td>\n",
              "      <td>3</td>\n",
              "    </tr>\n",
              "  </tbody>\n",
              "</table>\n",
              "</div>"
            ],
            "text/plain": [
              "    vano  mes  hom_doloso  ...  indicador_roubo_veic  registro_ocorrencias  fase\n",
              "48  1995    1         831  ...                  2060                   NaN     3\n",
              "\n",
              "[1 rows x 56 columns]"
            ]
          },
          "metadata": {
            "tags": []
          },
          "execution_count": 15
        }
      ]
    },
    {
      "cell_type": "code",
      "metadata": {
        "id": "G6cCz0_VGoGV",
        "colab_type": "code",
        "colab": {
          "base_uri": "https://localhost:8080/",
          "height": 100
        },
        "outputId": "82babf74-d5d6-4195-bb0c-6f46775081da"
      },
      "source": [
        "df_RJ[df_RJ.hom_doloso == 272]"
      ],
      "execution_count": 16,
      "outputs": [
        {
          "output_type": "execute_result",
          "data": {
            "text/html": [
              "<div>\n",
              "<style scoped>\n",
              "    .dataframe tbody tr th:only-of-type {\n",
              "        vertical-align: middle;\n",
              "    }\n",
              "\n",
              "    .dataframe tbody tr th {\n",
              "        vertical-align: top;\n",
              "    }\n",
              "\n",
              "    .dataframe thead th {\n",
              "        text-align: right;\n",
              "    }\n",
              "</style>\n",
              "<table border=\"1\" class=\"dataframe\">\n",
              "  <thead>\n",
              "    <tr style=\"text-align: right;\">\n",
              "      <th></th>\n",
              "      <th>vano</th>\n",
              "      <th>mes</th>\n",
              "      <th>hom_doloso</th>\n",
              "      <th>lesao_corp_morte</th>\n",
              "      <th>latrocinio</th>\n",
              "      <th>hom_por_interv_policial</th>\n",
              "      <th>tentat_hom</th>\n",
              "      <th>lesao_corp_dolosa</th>\n",
              "      <th>estupro</th>\n",
              "      <th>hom_culposo</th>\n",
              "      <th>lesao_corp_culposa</th>\n",
              "      <th>roubo_comercio</th>\n",
              "      <th>roubo_residencia</th>\n",
              "      <th>roubo_veiculo</th>\n",
              "      <th>roubo_carga</th>\n",
              "      <th>roubo_transeunte</th>\n",
              "      <th>roubo_em_coletivo</th>\n",
              "      <th>roubo_banco</th>\n",
              "      <th>roubo_cx_eletronico</th>\n",
              "      <th>roubo_celular</th>\n",
              "      <th>roubo_conducao_saque</th>\n",
              "      <th>roubo_apos_saque</th>\n",
              "      <th>roubo_bicicleta</th>\n",
              "      <th>outros_roubos</th>\n",
              "      <th>total_roubos</th>\n",
              "      <th>furto_veiculos</th>\n",
              "      <th>furto_transeunte</th>\n",
              "      <th>furto_coletivo</th>\n",
              "      <th>furto_celular</th>\n",
              "      <th>furto_bicicleta</th>\n",
              "      <th>outros_furtos</th>\n",
              "      <th>total_furtos</th>\n",
              "      <th>sequestro</th>\n",
              "      <th>extorsao</th>\n",
              "      <th>sequestro_relampago</th>\n",
              "      <th>estelionato</th>\n",
              "      <th>apreensao_drogas</th>\n",
              "      <th>posse_drogas</th>\n",
              "      <th>trafico_drogas</th>\n",
              "      <th>apreensao_drogas_sem_autor</th>\n",
              "      <th>recuperacao_veiculos</th>\n",
              "      <th>apf</th>\n",
              "      <th>aaapai</th>\n",
              "      <th>cmp</th>\n",
              "      <th>cmba</th>\n",
              "      <th>ameaca</th>\n",
              "      <th>pessoas_desaparecidas</th>\n",
              "      <th>encontro_cadaver</th>\n",
              "      <th>encontro_ossada</th>\n",
              "      <th>pol_militares_mortos_serv</th>\n",
              "      <th>pol_civis_mortos_serv</th>\n",
              "      <th>indicador_letalidade</th>\n",
              "      <th>indicador_roubo_rua</th>\n",
              "      <th>indicador_roubo_veic</th>\n",
              "      <th>registro_ocorrencias</th>\n",
              "      <th>fase</th>\n",
              "    </tr>\n",
              "  </thead>\n",
              "  <tbody>\n",
              "    <tr>\n",
              "      <th>293</th>\n",
              "      <td>2015</td>\n",
              "      <td>6</td>\n",
              "      <td>272</td>\n",
              "      <td>2.0</td>\n",
              "      <td>16</td>\n",
              "      <td>44.0</td>\n",
              "      <td>477</td>\n",
              "      <td>5535</td>\n",
              "      <td>389.0</td>\n",
              "      <td>140.0</td>\n",
              "      <td>3369.0</td>\n",
              "      <td>465</td>\n",
              "      <td>96</td>\n",
              "      <td>2254</td>\n",
              "      <td>566</td>\n",
              "      <td>4421</td>\n",
              "      <td>619</td>\n",
              "      <td>3</td>\n",
              "      <td>1.0</td>\n",
              "      <td>896.0</td>\n",
              "      <td>5.0</td>\n",
              "      <td>106.0</td>\n",
              "      <td>3.0</td>\n",
              "      <td>1243</td>\n",
              "      <td>10678</td>\n",
              "      <td>1333</td>\n",
              "      <td>2974</td>\n",
              "      <td>968.0</td>\n",
              "      <td>1514.0</td>\n",
              "      <td>5.0</td>\n",
              "      <td>7475</td>\n",
              "      <td>14269</td>\n",
              "      <td>0.0</td>\n",
              "      <td>192.0</td>\n",
              "      <td>10.0</td>\n",
              "      <td>2940.0</td>\n",
              "      <td>2134</td>\n",
              "      <td>845.0</td>\n",
              "      <td>1134.0</td>\n",
              "      <td>204.0</td>\n",
              "      <td>1768</td>\n",
              "      <td>3128.0</td>\n",
              "      <td>798.0</td>\n",
              "      <td>1676.0</td>\n",
              "      <td>57.0</td>\n",
              "      <td>5678.0</td>\n",
              "      <td>493.0</td>\n",
              "      <td>52</td>\n",
              "      <td>4.0</td>\n",
              "      <td>1.0</td>\n",
              "      <td>1.0</td>\n",
              "      <td>334</td>\n",
              "      <td>5936</td>\n",
              "      <td>2254</td>\n",
              "      <td>60357.0</td>\n",
              "      <td>3</td>\n",
              "    </tr>\n",
              "  </tbody>\n",
              "</table>\n",
              "</div>"
            ],
            "text/plain": [
              "     vano  mes  hom_doloso  ...  indicador_roubo_veic  registro_ocorrencias  fase\n",
              "293  2015    6         272  ...                  2254               60357.0     3\n",
              "\n",
              "[1 rows x 56 columns]"
            ]
          },
          "metadata": {
            "tags": []
          },
          "execution_count": 16
        }
      ]
    },
    {
      "cell_type": "markdown",
      "metadata": {
        "id": "2CM7s5lTSsGO",
        "colab_type": "text"
      },
      "source": [
        "O resultado acima, sugere que entre os anos de 1995 a 2015 ocorreu uma queda nos homicídios dolosos. Porém, somente com uma análise mais aprofundada podemos fazer certas afirmações."
      ]
    },
    {
      "cell_type": "markdown",
      "metadata": {
        "id": "2kIc-Gd-W6Jn",
        "colab_type": "text"
      },
      "source": [
        "Agora, vamos verificar como essa variável `hom_doloso` vem se comportando ao longo do tempo."
      ]
    },
    {
      "cell_type": "markdown",
      "metadata": {
        "id": "_hs8WLBbR0fD",
        "colab_type": "text"
      },
      "source": [
        "Plotando o gráfico de linhas:"
      ]
    },
    {
      "cell_type": "code",
      "metadata": {
        "id": "2vVN0zvjR6A5",
        "colab_type": "code",
        "colab": {
          "base_uri": "https://localhost:8080/",
          "height": 265
        },
        "outputId": "23a842c4-aa4b-4ff2-8728-f0451a34f66d"
      },
      "source": [
        "df_RJ.hom_doloso.plot();"
      ],
      "execution_count": 17,
      "outputs": [
        {
          "output_type": "display_data",
          "data": {
            "image/png": "[encoded data removed]",
            "text/plain": [
              "<Figure size 432x288 with 1 Axes>"
            ]
          },
          "metadata": {
            "tags": [],
            "needs_background": "light"
          }
        }
      ]
    },
    {
      "cell_type": "markdown",
      "metadata": {
        "id": "TANy1NAfXfPg",
        "colab_type": "text"
      },
      "source": [
        "Plotando um histograma:\n"
      ]
    },
    {
      "cell_type": "code",
      "metadata": {
        "id": "TMNTqT6CXnjU",
        "colab_type": "code",
        "colab": {
          "base_uri": "https://localhost:8080/",
          "height": 265
        },
        "outputId": "d27646ff-cbca-4041-c2c7-91293ead646d"
      },
      "source": [
        "df_RJ.hom_doloso.hist();"
      ],
      "execution_count": 18,
      "outputs": [
        {
          "output_type": "display_data",
          "data": {
            "image/png": "[encoded data removed]",
            "text/plain": [
              "<Figure size 432x288 with 1 Axes>"
            ]
          },
          "metadata": {
            "tags": [],
            "needs_background": "light"
          }
        }
      ]
    },
    {
      "cell_type": "markdown",
      "metadata": {
        "id": "Ybwg1SeKYcNB",
        "colab_type": "text"
      },
      "source": [
        "Os gráficos nos mostram que apesar de ocorrerem oscilações entre o período de 1995 a 2015, houve uma queda considerável nos crimes de homicídios dolosos.\n",
        "\n"
      ]
    },
    {
      "cell_type": "markdown",
      "metadata": {
        "id": "7WK0NBQZASKC",
        "colab_type": "text"
      },
      "source": [
        "## 4. Visualização de Dados##\n",
        "\n",
        "A representação gráfica expressa visualmente dados ou valores numéricos. Essa forma de visualização permite uma melhor interpretação e compreensão dos dados. Existem vários tipos de gráficos que podem ser usados para visualizar os dados. Nesta etapa, usamos os gráficos de linha e histograma para explorar algumas variáveis e extrair informações."
      ]
    },
    {
      "cell_type": "markdown",
      "metadata": {
        "id": "2ekVs_ATq4Jn",
        "colab_type": "text"
      },
      "source": [
        "###4.1. Gráficos para apreensão de drogas###"
      ]
    },
    {
      "cell_type": "markdown",
      "metadata": {
        "id": "lq58YYwGOBpU",
        "colab_type": "text"
      },
      "source": [
        "Plotando um histograma:"
      ]
    },
    {
      "cell_type": "code",
      "metadata": {
        "id": "HYDvC7VhsNEa",
        "colab_type": "code",
        "colab": {
          "base_uri": "https://localhost:8080/",
          "height": 265
        },
        "outputId": "60916cf9-970b-400d-d68d-2e5315aa173f"
      },
      "source": [
        "df_RJ.apreensao_drogas.hist();"
      ],
      "execution_count": 20,
      "outputs": [
        {
          "output_type": "display_data",
          "data": {
            "image/png": "[encoded data removed]",
            "text/plain": [
              "<Figure size 432x288 with 1 Axes>"
            ]
          },
          "metadata": {
            "tags": [],
            "needs_background": "light"
          }
        }
      ]
    },
    {
      "cell_type": "markdown",
      "metadata": {
        "id": "q9SXz9IHOHs7",
        "colab_type": "text"
      },
      "source": [
        "Plotando um gráfico de linhas:"
      ]
    },
    {
      "cell_type": "code",
      "metadata": {
        "id": "5T-Bg2OKOGS_",
        "colab_type": "code",
        "colab": {
          "base_uri": "https://localhost:8080/",
          "height": 265
        },
        "outputId": "cba2a2b0-e683-458f-d7c2-964364b625cd"
      },
      "source": [
        "df_RJ.apreensao_drogas.plot();"
      ],
      "execution_count": 21,
      "outputs": [
        {
          "output_type": "display_data",
          "data": {
            "image/png": "[encoded data removed]",
            "text/plain": [
              "<Figure size 432x288 with 1 Axes>"
            ]
          },
          "metadata": {
            "tags": [],
            "needs_background": "light"
          }
        }
      ]
    },
    {
      "cell_type": "markdown",
      "metadata": {
        "colab_type": "text",
        "id": "oKEAokT4sAwM"
      },
      "source": [
        "###4.2. Gráfico de roubo em coletivo###"
      ]
    },
    {
      "cell_type": "code",
      "metadata": {
        "id": "UqO-5FT4skNP",
        "colab_type": "code",
        "colab": {
          "base_uri": "https://localhost:8080/",
          "height": 265
        },
        "outputId": "380e4582-4be8-4a63-c9c0-3768347dcb42"
      },
      "source": [
        "df_RJ.roubo_em_coletivo.plot();"
      ],
      "execution_count": 22,
      "outputs": [
        {
          "output_type": "display_data",
          "data": {
            "image/png": "[encoded data removed]",
            "text/plain": [
              "<Figure size 432x288 with 1 Axes>"
            ]
          },
          "metadata": {
            "tags": [],
            "needs_background": "light"
          }
        }
      ]
    },
    {
      "cell_type": "code",
      "metadata": {
        "id": "VCz5vjGfuDJL",
        "colab_type": "code",
        "colab": {
          "base_uri": "https://localhost:8080/",
          "height": 265
        },
        "outputId": "a152b458-e088-442c-e455-c91a0f5cadfb"
      },
      "source": [
        "df_RJ.roubo_em_coletivo.hist();"
      ],
      "execution_count": 23,
      "outputs": [
        {
          "output_type": "display_data",
          "data": {
            "image/png": "[encoded data removed]",
            "text/plain": [
              "<Figure size 432x288 with 1 Axes>"
            ]
          },
          "metadata": {
            "tags": [],
            "needs_background": "light"
          }
        }
      ]
    },
    {
      "cell_type": "markdown",
      "metadata": {
        "id": "LCsiXvM3BcsO",
        "colab_type": "text"
      },
      "source": [
        "## 5. Conclusões##\n",
        "\n",
        "Neste projeto, exploramos os dados abertos relacionados à violência do Rio de Janeiro e realizamos uma análise exploratória de algumas variáveis. \n",
        "\n",
        "Os homicídios dolosos tiveram uma queda considerável entre os anos de 1995 a 2015. Os roubos em coletivo e a apreensão de drogas tiveram um aumento.  \n",
        "\n"
      ]
    }
  ]
}